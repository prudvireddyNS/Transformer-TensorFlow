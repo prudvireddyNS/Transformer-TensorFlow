{
 "cells": [
  {
   "cell_type": "code",
   "execution_count": 12,
   "id": "078744b2-cd3b-4d87-bf13-e7cc6a90c0fa",
   "metadata": {},
   "outputs": [],
   "source": [
    "import numpy as np\n",
    "import math\n",
    "np.random.seed(1)"
   ]
  },
  {
   "cell_type": "code",
   "execution_count": 13,
   "id": "829349d1-0ccc-4727-b6ef-56b37443003b",
   "metadata": {},
   "outputs": [],
   "source": [
    "L, d_k, d_v = 4, 8, 8\n",
    "q = np.random.randn(L, d_k)\n",
    "k = np.random.randn(L, d_k)\n",
    "v = np.random.randn(L, d_v)"
   ]
  },
  {
   "cell_type": "code",
   "execution_count": 14,
   "id": "d2e6e38f-35d4-4158-bb72-21fa3a51ce0d",
   "metadata": {},
   "outputs": [
    {
     "data": {
      "text/plain": [
       "(array([[ 1.62434536, -0.61175641, -0.52817175, -1.07296862,  0.86540763,\n",
       "         -2.3015387 ,  1.74481176, -0.7612069 ],\n",
       "        [ 0.3190391 , -0.24937038,  1.46210794, -2.06014071, -0.3224172 ,\n",
       "         -0.38405435,  1.13376944, -1.09989127],\n",
       "        [-0.17242821, -0.87785842,  0.04221375,  0.58281521, -1.10061918,\n",
       "          1.14472371,  0.90159072,  0.50249434],\n",
       "        [ 0.90085595, -0.68372786, -0.12289023, -0.93576943, -0.26788808,\n",
       "          0.53035547, -0.69166075, -0.39675353]]),\n",
       " array([[-0.6871727 , -0.84520564, -0.67124613, -0.0126646 , -1.11731035,\n",
       "          0.2344157 ,  1.65980218,  0.74204416],\n",
       "        [-0.19183555, -0.88762896, -0.74715829,  1.6924546 ,  0.05080775,\n",
       "         -0.63699565,  0.19091548,  2.10025514],\n",
       "        [ 0.12015895,  0.61720311,  0.30017032, -0.35224985, -1.1425182 ,\n",
       "         -0.34934272, -0.20889423,  0.58662319],\n",
       "        [ 0.83898341,  0.93110208,  0.28558733,  0.88514116, -0.75439794,\n",
       "          1.25286816,  0.51292982, -0.29809284]]),\n",
       " array([[ 0.48851815, -0.07557171,  1.13162939,  1.51981682,  2.18557541,\n",
       "         -1.39649634, -1.44411381, -0.50446586],\n",
       "        [ 0.16003707,  0.87616892,  0.31563495, -2.02220122, -0.30620401,\n",
       "          0.82797464,  0.23009474,  0.76201118],\n",
       "        [-0.22232814, -0.20075807,  0.18656139,  0.41005165,  0.19829972,\n",
       "          0.11900865, -0.67066229,  0.37756379],\n",
       "        [ 0.12182127,  1.12948391,  1.19891788,  0.18515642, -0.37528495,\n",
       "         -0.63873041,  0.42349435,  0.07734007]]))"
      ]
     },
     "execution_count": 14,
     "metadata": {},
     "output_type": "execute_result"
    }
   ],
   "source": [
    "q, k, v"
   ]
  },
  {
   "cell_type": "markdown",
   "id": "75a2877f-2ec1-42c8-aee9-905acde75a3a",
   "metadata": {},
   "source": [
    "## Self Attention\n",
    "\n",
    "$$\n",
    "\\text{self attention} = softmax\\bigg(\\frac{Q.K^T}{\\sqrt{d_k}}+M\\bigg)\n",
    "$$\n",
    "\n",
    "$$\n",
    "\\text{new V} = \\text{self attention}.V\n",
    "$$ "
   ]
  },
  {
   "cell_type": "code",
   "execution_count": 15,
   "id": "d52685fe-2fe7-48f5-8286-160c99b2a73a",
   "metadata": {},
   "outputs": [
    {
     "data": {
      "text/plain": [
       "array([[ 0.59372367, -0.94549483, -0.95872768, -2.72188667],\n",
       "       [ 0.37206766, -6.28431385,  0.66946338, -0.69900135],\n",
       "       [ 4.19215154,  2.20952829,  0.20885328,  2.14304477],\n",
       "       [-0.96560313, -2.37462568,  0.01151389, -0.11414552]])"
      ]
     },
     "execution_count": 15,
     "metadata": {},
     "output_type": "execute_result"
    }
   ],
   "source": [
    "np.dot(q,k.T)"
   ]
  },
  {
   "cell_type": "code",
   "execution_count": 18,
   "id": "082212b0-8616-46a3-9826-12f88299319d",
   "metadata": {},
   "outputs": [
    {
     "data": {
      "text/plain": [
       "(0.9697668554625956, 0.6929926957288495, 5.153730321939619)"
      ]
     },
     "execution_count": 18,
     "metadata": {},
     "output_type": "execute_result"
    }
   ],
   "source": [
    "q.var(), k.var(), np.dot(q,k.T).var()"
   ]
  },
  {
   "cell_type": "code",
   "execution_count": 21,
   "id": "4233740a-fc05-4b01-9439-ad1887ebb758",
   "metadata": {},
   "outputs": [
    {
     "data": {
      "text/plain": [
       "(0.9697668554625956, 0.6929926957288495, 0.6442162902424524)"
      ]
     },
     "execution_count": 21,
     "metadata": {},
     "output_type": "execute_result"
    }
   ],
   "source": [
    "scaled = np.dot(q, k.T) / np.sqrt(d_k)\n",
    "q.var(), k.var(), scaled.var()"
   ]
  },
  {
   "cell_type": "code",
   "execution_count": 22,
   "id": "bb46e607-79e9-410d-890b-0e86d33c1895",
   "metadata": {},
   "outputs": [
    {
     "data": {
      "text/plain": [
       "array([[ 0.20991302, -0.3342829 , -0.33896142, -0.96233226],\n",
       "       [ 0.13154578, -2.22184047,  0.23669105, -0.2471343 ],\n",
       "       [ 1.48214939,  0.78118622,  0.07384078,  0.75768074],\n",
       "       [-0.34139226, -0.83955696,  0.00407078, -0.04035654]])"
      ]
     },
     "execution_count": 22,
     "metadata": {},
     "output_type": "execute_result"
    }
   ],
   "source": [
    "scaled"
   ]
  },
  {
   "cell_type": "markdown",
   "id": "d12eb3b3-9649-4cef-9cb3-f147f3f21368",
   "metadata": {},
   "source": [
    "## Masking\n",
    "\n",
    "- This is to ensure words don't get context from words generated in the future. \n",
    "- Not required in the encoders, but required in the decoders"
   ]
  },
  {
   "cell_type": "code",
   "execution_count": 25,
   "id": "06dd4a8b-e931-463c-a96e-c4b44adfb6df",
   "metadata": {},
   "outputs": [
    {
     "data": {
      "text/plain": [
       "array([[1., 0., 0., 0.],\n",
       "       [1., 1., 0., 0.],\n",
       "       [1., 1., 1., 0.],\n",
       "       [1., 1., 1., 1.]])"
      ]
     },
     "execution_count": 25,
     "metadata": {},
     "output_type": "execute_result"
    }
   ],
   "source": [
    "mask = np.tril(np.ones((L,L)))\n",
    "mask"
   ]
  },
  {
   "cell_type": "code",
   "execution_count": 26,
   "id": "9e8dcb72-39dd-4b2b-841e-1755d48532a7",
   "metadata": {},
   "outputs": [
    {
     "data": {
      "text/plain": [
       "array([[  0., -inf, -inf, -inf],\n",
       "       [  0.,   0., -inf, -inf],\n",
       "       [  0.,   0.,   0., -inf],\n",
       "       [  0.,   0.,   0.,   0.]])"
      ]
     },
     "execution_count": 26,
     "metadata": {},
     "output_type": "execute_result"
    }
   ],
   "source": [
    "mask[mask == 0] = -np.inf\n",
    "mask[mask == 1] = 0\n",
    "mask"
   ]
  },
  {
   "cell_type": "code",
   "execution_count": 27,
   "id": "d8c22421-4b70-4194-9136-807832638bdc",
   "metadata": {},
   "outputs": [
    {
     "data": {
      "text/plain": [
       "array([[ 0.20991302,        -inf,        -inf,        -inf],\n",
       "       [ 0.13154578, -2.22184047,        -inf,        -inf],\n",
       "       [ 1.48214939,  0.78118622,  0.07384078,        -inf],\n",
       "       [-0.34139226, -0.83955696,  0.00407078, -0.04035654]])"
      ]
     },
     "execution_count": 27,
     "metadata": {},
     "output_type": "execute_result"
    }
   ],
   "source": [
    "scaled + mask"
   ]
  },
  {
   "cell_type": "markdown",
   "id": "73d7ff0a-6def-4de9-8e3a-36e8de8eea50",
   "metadata": {},
   "source": [
    "## Softmax\n",
    "\n",
    "$$\n",
    "\\text{softmax} = \\frac{e^{x_i}}{\\sum_j e^x_j}\n",
    "$$"
   ]
  },
  {
   "cell_type": "code",
   "execution_count": 35,
   "id": "c0f04682-cc1c-452a-a247-2a2f467f9ed2",
   "metadata": {},
   "outputs": [],
   "source": [
    "def softmax(x):\n",
    "    return (np.exp(x).T / np.sum(np.exp(x), axis=-1)).T"
   ]
  },
  {
   "cell_type": "code",
   "execution_count": 36,
   "id": "744ec8a6-0140-4c3b-97bf-5fd68f22717a",
   "metadata": {},
   "outputs": [
    {
     "data": {
      "text/plain": [
       "array([[1.        , 0.        , 0.        , 0.        ],\n",
       "       [0.91320301, 0.08679699, 0.        , 0.        ],\n",
       "       [0.57449347, 0.28501037, 0.14049616, 0.        ],\n",
       "       [0.22875201, 0.13899998, 0.32314512, 0.30910289]])"
      ]
     },
     "execution_count": 36,
     "metadata": {},
     "output_type": "execute_result"
    }
   ],
   "source": [
    "attention = softmax(scaled + mask)\n",
    "attention"
   ]
  },
  {
   "cell_type": "code",
   "execution_count": 38,
   "id": "0bd8bcf2-efd9-46a9-b967-151d1f2bedab",
   "metadata": {},
   "outputs": [
    {
     "data": {
      "text/plain": [
       "array([[ 0.48851815, -0.07557171,  1.13162939,  1.51981682,  2.18557541,\n",
       "        -1.39649634, -1.44411381, -0.50446586],\n",
       "       [ 0.46000698,  0.00703651,  1.06080353,  1.21238031,  1.96929645,\n",
       "        -1.20341895, -1.29879754, -0.39453947],\n",
       "       [ 0.29502646,  0.17809604,  0.76628409,  0.35438721,  1.19618784,\n",
       "        -0.54957641, -0.85828004, -0.019585  ],\n",
       "       [ 0.09980571,  0.38875303,  0.73361113,  0.2563138 ,  0.40547033,\n",
       "        -0.36333924, -0.38417869,  0.13643589]])"
      ]
     },
     "execution_count": 38,
     "metadata": {},
     "output_type": "execute_result"
    }
   ],
   "source": [
    "new_v = np.dot(attention, v)\n",
    "new_v"
   ]
  },
  {
   "cell_type": "markdown",
   "id": "b5568234-168d-4a77-bf7a-a346a1a4457d",
   "metadata": {},
   "source": [
    "# Function"
   ]
  },
  {
   "cell_type": "code",
   "execution_count": 39,
   "id": "0aeeef6a-32d1-42c4-877d-f5d4b1d745b7",
   "metadata": {},
   "outputs": [],
   "source": [
    "def softmax(x):\n",
    "    return (np.exp(x).T / np.sum(np.exp(x), axis = -1)).T\n",
    "\n",
    "def scaled_dot_product_attention(q, k, v, mask = None):\n",
    "    scaled = np.dot(q,k.T) / np.sqrt(d_k)\n",
    "    if mask is not None:\n",
    "        scaled = scaled + mask\n",
    "    attention = softmax(scaled)\n",
    "    out = np.dot(attention, v)\n",
    "    return out, attention"
   ]
  },
  {
   "cell_type": "code",
   "execution_count": 41,
   "id": "901e6ae3-a378-4e38-bd8d-0cf42d176099",
   "metadata": {},
   "outputs": [
    {
     "data": {
      "text/plain": [
       "(array([[ 0.48851815, -0.07557171,  1.13162939,  1.51981682,  2.18557541,\n",
       "         -1.39649634, -1.44411381, -0.50446586],\n",
       "        [ 0.46000698,  0.00703651,  1.06080353,  1.21238031,  1.96929645,\n",
       "         -1.20341895, -1.29879754, -0.39453947],\n",
       "        [ 0.29502646,  0.17809604,  0.76628409,  0.35438721,  1.19618784,\n",
       "         -0.54957641, -0.85828004, -0.019585  ],\n",
       "        [ 0.09980571,  0.38875303,  0.73361113,  0.2563138 ,  0.40547033,\n",
       "         -0.36333924, -0.38417869,  0.13643589]]),\n",
       " array([[1.        , 0.        , 0.        , 0.        ],\n",
       "        [0.91320301, 0.08679699, 0.        , 0.        ],\n",
       "        [0.57449347, 0.28501037, 0.14049616, 0.        ],\n",
       "        [0.22875201, 0.13899998, 0.32314512, 0.30910289]]))"
      ]
     },
     "execution_count": 41,
     "metadata": {},
     "output_type": "execute_result"
    }
   ],
   "source": [
    "values, attention = scaled_dot_product_attention(q, k, v, mask = mask)\n",
    "values, attention"
   ]
  },
  {
   "cell_type": "code",
   "execution_count": null,
   "id": "3805a00e-a5d1-4501-8a46-5710cca442a8",
   "metadata": {},
   "outputs": [],
   "source": []
  }
 ],
 "metadata": {
  "kernelspec": {
   "display_name": "Python 3 (ipykernel)",
   "language": "python",
   "name": "python3"
  },
  "language_info": {
   "codemirror_mode": {
    "name": "ipython",
    "version": 3
   },
   "file_extension": ".py",
   "mimetype": "text/x-python",
   "name": "python",
   "nbconvert_exporter": "python",
   "pygments_lexer": "ipython3",
   "version": "3.8.10"
  }
 },
 "nbformat": 4,
 "nbformat_minor": 5
}

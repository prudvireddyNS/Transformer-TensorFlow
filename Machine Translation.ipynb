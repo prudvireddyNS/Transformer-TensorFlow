{
 "cells": [
  {
   "cell_type": "code",
   "execution_count": 2,
   "metadata": {
    "id": "kcXPw_FA3lv1"
   },
   "outputs": [],
   "source": [
    "import tensorflow as tf\n",
    "import numpy as np\n",
    "from Transformer import Transformer"
   ]
  },
  {
   "cell_type": "code",
   "execution_count": 62,
   "metadata": {
    "id": "9o9viYqC3oDk"
   },
   "outputs": [],
   "source": [
    "eng_path = \"v2/en-te/train.en\"\n",
    "tel_path = \"v2/en-te/train.te\"\n",
    "with open(eng_path, 'r') as file:\n",
    "    eng_data = file.readlines()\n",
    "with open(tel_path, 'r', encoding='UTF-8') as file:\n",
    "    tel_data = file.readlines()"
   ]
  },
  {
   "cell_type": "code",
   "execution_count": 63,
   "metadata": {
    "colab": {
     "base_uri": "https://localhost:8080/"
    },
    "id": "QssfhoTB4h0i",
    "outputId": "ca220fd1-ed89-43fb-dac4-db9be02a5a7d"
   },
   "outputs": [
    {
     "data": {
      "text/plain": [
       "(4946035, 4946035)"
      ]
     },
     "execution_count": 63,
     "metadata": {},
     "output_type": "execute_result"
    }
   ],
   "source": [
    "len(tel_data), len(eng_data)"
   ]
  },
  {
   "cell_type": "code",
   "execution_count": 64,
   "metadata": {
    "colab": {
     "base_uri": "https://localhost:8080/"
    },
    "id": "lDzAGk62jwTQ",
    "outputId": "d4c026ca-0011-4c8a-9990-857de12bb3a0"
   },
   "outputs": [
    {
     "data": {
      "text/plain": [
       "('Have you heard about Foie gras?\\n',\n",
       " 'ఇక ఫ్రూట్ ఫ్లైస్ గురించి మీరు విన్నారా?\\n')"
      ]
     },
     "execution_count": 64,
     "metadata": {},
     "output_type": "execute_result"
    }
   ],
   "source": [
    "eng_data[0], tel_data[0]"
   ]
  },
  {
   "cell_type": "code",
   "execution_count": 73,
   "metadata": {
    "id": "jLk6ztBv4h5K"
   },
   "outputs": [],
   "source": [
    "tel_data = [x.strip('\\n') for x in tel_data]\n",
    "eng_data = [x.strip('\\n') for x in eng_data]"
   ]
  },
  {
   "cell_type": "code",
   "execution_count": 74,
   "metadata": {
    "id": "pO14dvpRk9pO"
   },
   "outputs": [],
   "source": [
    "d_model = 512\n",
    "batch_size = 30\n",
    "ffn_hidden = 2048\n",
    "num_heads = 8\n",
    "max_sequence_length = 200\n",
    "drop_prob = 0.1\n",
    "num_layers = 2\n",
    "START_TOKEN = ''\n",
    "PADDING_TOKEN = ''\n",
    "END_TOKEN = ''"
   ]
  },
  {
   "cell_type": "code",
   "execution_count": 75,
   "metadata": {
    "id": "QI28cTW94h7E"
   },
   "outputs": [],
   "source": [
    "tel_uni = set()\n",
    "for sentence in tel_data:\n",
    "    sentence = sentence.lower()\n",
    "    for char in sentence:\n",
    "        tel_uni.add(char)\n",
    "\n",
    "eng_uni = set()\n",
    "for sentence in eng_data:\n",
    "    sentence = sentence.lower()\n",
    "    for char in sentence:\n",
    "        eng_uni.add(char)\n",
    "\n",
    "tel_uni = list(tel_uni) + [START_TOKEN, END_TOKEN, PADDING_TOKEN]\n",
    "eng_uni = list(eng_uni) + [START_TOKEN, END_TOKEN, PADDING_TOKEN]"
   ]
  },
  {
   "cell_type": "code",
   "execution_count": null,
   "metadata": {
    "colab": {
     "base_uri": "https://localhost:8080/"
    },
    "id": "pPG8a4qu4h-z",
    "outputId": "c0f11921-9d7a-458e-b75d-317c680d662c"
   },
   "outputs": [],
   "source": [
    "tel_invalid = ['ತ', 'ḷ', 'т', 'ि', 'ल', 'ś', 'メ', 'ਅ', '✺', '☘', 'ग', 'j', 'я', 'র', 'φ', 'ध', 'س', '◘', 'ń', 'µ', '¡', 'ت', 'ா', 'i', 'د', 'ک', '»', '\\xad',\n",
    "               'ശ', 'া', 'ਤ', '©', '𐎼', '情', 'р', 'è', '毒', 'к', 'ম', 'ے', 'ب', 'n', '➦', 's', 'e', 'ਰ', 'ਲ', 'ä', '✶', '\\uf0fc', 'ক', '•', 'र', 'g', '❂',\n",
    "               '∠', 'ঘ', '▾', 'ع', 'ே', 'भ', 'ς', 'ḍ', '្', 'च', '❋', 'ո', 'হ', 'ն', 'ವ', 'व', 'ه', 'ರ', '份', 'ਾ', '¤', 'γ', 'շ', 'π', 'অ', 'ի', 'v', 'ற',\n",
    "               '早', 'न', 'ó', 'q', 'ज', 'خ', '𐎥', 'ে', '∘', 'श', '\\u2060', '\\u200b', 'ೂ', '£', '্', 'ு', '►', 'ُ', '✧', '△', 'জ',\n",
    "               '⇔', 'α', 'h', '❏', 'چ', 'ত', 'կ', 'つ', '→', '\\u200c', '←', '𐎭', '✪', 'گ', 'आ', '«', 'ك', 'ç', '‘', '\\ufeff', 'प', 'य', 'd', 'ਗ',\n",
    "               'æ', '♦', 'ア', '\\u200d', '।', 'ា', '§','ह', 'м', 'ニ', '□', 'त', '♯', 'σ', 'տ', 'z', 'ւ', 'ர', '്', 'θ', 'ி',\n",
    "               '▪', 'ئ', 'ा', 'ೇ', 'ব', '✦', 'ਕ','ी', '≈', 'ن', '😊', '∇', '“', 'क', 'ج', 'и', 'ಡ', 'յ', '♠', 'ց', 'ο', 'մ', 'ଅ', ']',\n",
    "               'ô', '_', 'য', '戀', '😍', '愛', 'उ', 'ρ', '№', 'ā', 'ة', 'ύ', 'գ', '身', 'ब', '❑', 'w', 'x', 'c', 'ন', 'в', '⦾', 'ش', 'ز', 'غ',  'y',\n",
    "               'm', '🥰', '◆', 'ধ', 'ञ', '恋', 'ե', 'ത', 'հ', '\\u200e', '❤', 'š', 'е', 'β', 'ஆ', '♪', 'द', 'ण', 'ര', 'ù', 'ν', 'b', 'े', 'å', 'ौ',\n",
    "               '★', '∑', 'a', 'ս', 'ದ', 'េ', 'é', 'স', '\\uf0d8', '्', 'ន', 'ϙ', 't', '¸', 'ಮ', 'ا', 'ł', '`', 'ಕ', 'দ', 'ఽ', 'ø', 'í', 'ស', 'ę', '⇒', 'r', 'ਖ',\n",
    "               '₹', 'म', 'ھ', '\\u2061', 'ր', 'ਮ', '਼', 'ہ', 'ć', 'դ', 'ਝ', 'ò', 'ي', 'ö', 'ω', 'δ', 'k', 'ل', 'வ', '♥', '⊕', '\\u202a', 'و', 'թ', 'پ', 'க', 'ទ',\n",
    "               'ε', '—', 'ϝ', '➥', 'о', 'p', '\\uf02a', 'œ', '\\xa0', '×', 'ಗ', 'ñ', 'ល', 'ǧ', 'ա', 'û', 'у', 'ī', 'ប', 'μ', 'с', 'ú', '≤', '緣', '²',\n",
    "               '⁄', 'ی', 'u', 'स', '✹', '❖', 'ਘ', 'պ', '॥', 'ল', 'f', '𐎠', '⍟', 'م', 'ں', 'ر', 'も','焉','ズ', 'ĕ','龜', '౭','~','а', 'ē', '<',\n",
    "              'パ', '🙂','ோ','κ', '¼', '日','信', 'п', 'थ', 'ǵ','â', '³','✓','ض','‡', '>', '^', 'イ','₂','o','౮','º','º','本','₣', 'ಶ', 'א', 'अ', 'ो',\n",
    "              'н', '话','ב', 'ನ', 'ί','ы', '6', '8', 'ந','ְ', 'ْ', 'ê','ר','д', 'ஏ','ם', '⇨', '\\\\','ड','€', '❉', 'ж','¿', '′','َ', '✯', '●', '➢', 'த', 'ट', 'ப', 'č',\n",
    "              'ë', 'ம', '茲','л', 'з','电','✭','η','ņ','耆', '½','ष','л', 'з','电','✭','3', 'ல',  '➤','ய', 'ι','™', '®', '|', '○','ؤ','ה','ओ']\n",
    "\n",
    "tel_uni_copy = tel_uni.copy()  \n",
    "for char in tel_uni_copy:\n",
    "    if char in tel_invalid:\n",
    "        tel_uni.remove(char)"
   ]
  },
  {
   "cell_type": "code",
   "execution_count": 94,
   "metadata": {},
   "outputs": [
    {
     "name": "stdout",
     "output_type": "stream",
     "text": [
      "['ř', 'థ', 'అ', 'ು', '7', '*', 'న', '-', 'ఁ', 'ఱ', '˚', 'ఏ', 'ָ', '\\u200f', 'ా', 'ఈ', 'l', 'ఔ', 'ఋ', 'ద', '’', '0', 'ౖ', 'ృ', 'ఙ', '=', 'బ', '{', 'ొ', '?', 'ర', 'ఛ', 'ప', 'ౌ', 'ِ', '¯', 'ష', 'ಜ', '⚹', '‑', 'వ', 'リ', 'ಚ', '\\u0c11', 'ధ', '&', 'ु', 'ి', '°', '/', 'ఓ', 'య', '…', ',', 'ఝ', 'ట', '´', '!', '∙', '∼', '್', '”', 'ో', '1', '–', '#', 'ళ', 'ం', 'క', 'మ', '़', 'ణ', 'ఫ', 'ూ', 'ః', '@', 'డ', 'శ', 'ీ', '\\uf0a7', 'ַ', '+', 'త', 'భ', ':', '⦁', 'ఉ', 'ఒ', '்', 'ं', '4', 'ై', '[', 'ఐ', ' ', 'ఘ', '౦', '\"', 'చ', '·', 'ఢ', 'జ', 'ఇ', '%', '}', 'ఖ', 'ఞ', \"'\", '౬', '్', 'ఆ', '−', 'ె', 'ఎ', 'ಾ', 'ు', 'ृ', 'ँ', ')', 'ల', '9', 'స', '.', '$', '౧', '(', '2', 'హ', 'ʹ', 'ే', 'ఊ', 'ఠ', 'గ', '5', '', '', '']\n"
     ]
    }
   ],
   "source": [
    "print(tel_uni)"
   ]
  },
  {
   "cell_type": "code",
   "execution_count": 95,
   "metadata": {
    "id": "aViPovlc4iAv"
   },
   "outputs": [],
   "source": [
    "tel_to_ix = {ch: i for i, ch in enumerate(tel_uni)}\n",
    "ix_to_tel = {i: ch for i, ch in enumerate(tel_uni)}\n",
    "eng_to_ix = {ch: i for i, ch in enumerate(eng_uni)}\n",
    "ix_to_eng = {i: ch for i, ch in enumerate(eng_uni)}"
   ]
  },
  {
   "cell_type": "code",
   "execution_count": 96,
   "metadata": {
    "id": "J-IPNTTm4iB-"
   },
   "outputs": [],
   "source": [
    "def is_valid_tokens(sentence, vocab):\n",
    "    for char in list(set(sentence)):\n",
    "        if char not in vocab:\n",
    "            return False\n",
    "    return True\n",
    "\n",
    "def is_valid_length(sentence, max_sequence_length):\n",
    "    return len(sentence) < max_sequence_length-1\n",
    "\n",
    "valid_sentence_indices = []\n",
    "for index in range(len(tel_data)):\n",
    "    tel_sen, eng_sen = tel_data[index], eng_data[index]\n",
    "    if is_valid_length(tel_sen, max_sequence_length)  \\\n",
    "        and is_valid_length(eng_sen, max_sequence_length) \\\n",
    "        and is_valid_tokens(tel_sen, tel_uni):\n",
    "        valid_sentence_indices.append(index)"
   ]
  },
  {
   "cell_type": "code",
   "execution_count": 97,
   "metadata": {
    "id": "rmZvxeOq4iEP"
   },
   "outputs": [],
   "source": [
    "tel_sens = [tel_data[i] for i in valid_sentence_indices]\n",
    "eng_sens = [eng_data[i] for i in valid_sentence_indices]"
   ]
  },
  {
   "cell_type": "code",
   "execution_count": 100,
   "metadata": {
    "id": "aqEwwMa74iI3"
   },
   "outputs": [],
   "source": [
    "class TextDataset(tf.keras.utils.Sequence):\n",
    "    def __init__(self, english_sentences, kannada_sentences, batch_size):\n",
    "        self.english_sentences = english_sentences\n",
    "        self.kannada_sentences = kannada_sentences\n",
    "        self.batch_size = batch_size\n",
    "\n",
    "    def __len__(self):\n",
    "        return len(self.english_sentences) // self.batch_size\n",
    "\n",
    "    def __getitem__(self, idx):\n",
    "        start_index = idx * self.batch_size\n",
    "        end_index = start_index + self.batch_size\n",
    "        english_batch = self.english_sentences[start_index:end_index]\n",
    "        kannada_batch = self.kannada_sentences[start_index:end_index]\n",
    "        return english_batch, kannada_batch"
   ]
  },
  {
   "cell_type": "code",
   "execution_count": 101,
   "metadata": {
    "id": "NScsNkFD4iLH"
   },
   "outputs": [],
   "source": [
    "td = TextDataset(eng_sens, tel_sens, batch_size)"
   ]
  },
  {
   "cell_type": "code",
   "execution_count": 22,
   "metadata": {
    "id": "c6dFVUEimDGO"
   },
   "outputs": [],
   "source": [
    "NEG_INFTY = -1e9\n",
    "\n",
    "def create_mask(eng_batch, tel_batch):\n",
    "    num_sentences = len(eng_batch)\n",
    "    look_ahead_mask = np.full((200,200), True)\n",
    "    look_ahead_mask = np.triu(look_ahead_mask, k=1)\n",
    "    encoder_padding_mask = np.full((num_sentences, 200, 200), False)\n",
    "    decoder_padding_mask_self_attention = np.full((num_sentences, 200, 200), False)\n",
    "    decoder_padding_mask_cross_attention = np.full((num_sentences, 200, 200), False)\n",
    "\n",
    "    for idx in range(num_sentences):\n",
    "        eng_sen_len, tel_sen_len = len(eng_batch[idx]), len(tel_batch[idx])\n",
    "        eng_chars_to_padding_mask = np.arange(eng_sen_len + 1, 200)\n",
    "        tel_chars_to_padding_mask = np.arange(tel_sen_len + 1, 200)\n",
    "        encoder_padding_mask[idx, :, eng_chars_to_padding_mask] = True\n",
    "        encoder_padding_mask[idx, eng_chars_to_padding_mask, :] = True\n",
    "        decoder_padding_mask_self_attention[idx, :, tel_chars_to_padding_mask] = True\n",
    "        decoder_padding_mask_self_attention[idx, tel_chars_to_padding_mask, :] = True\n",
    "        decoder_padding_mask_cross_attention[idx, :, tel_chars_to_padding_mask] = True\n",
    "        decoder_padding_mask_cross_attention[idx, tel_chars_to_padding_mask, :] = True\n",
    "\n",
    "    encoder_padding_mask = np.where(encoder_padding_mask, NEG_INFTY, 0)\n",
    "    decoder_padding_mask_self_attention = np.where(look_ahead_mask + decoder_padding_mask_self_attention, NEG_INFTY, 0)\n",
    "    decoder_padding_mask_cross_attention = np.where(decoder_padding_mask_cross_attention, NEG_INFTY, 0)\n",
    "\n",
    "    return encoder_padding_mask, decoder_padding_mask_self_attention, decoder_padding_mask_cross_attention"
   ]
  },
  {
   "cell_type": "code",
   "execution_count": 123,
   "metadata": {
    "id": "RDILBXvS4iR0"
   },
   "outputs": [],
   "source": [
    "transformer = Transformer(d_model, num_heads, ffn_hidden, drop_prob, num_layers, max_sequence_length,len(tel_uni),\n",
    "                          eng_to_ix, tel_to_ix, START_TOKEN, END_TOKEN, PADDING_TOKEN)"
   ]
  },
  {
   "cell_type": "code",
   "execution_count": 24,
   "metadata": {
    "id": "G0rJQO_Q4iVQ"
   },
   "outputs": [],
   "source": [
    "criterion = tf.keras.losses.SparseCategoricalCrossentropy(ignore_class=tel_to_ix[PADDING_TOKEN], reduction='none')\n",
    "\n",
    "initializer = tf.keras.initializers.GlorotUniform()\n",
    "for params in transformer.trainable_variables:\n",
    "    if len(params.shape) > 1:\n",
    "        initializer(params)\n",
    "\n",
    "optimizer = tf.keras.optimizers.Adam(learning_rate=1e-4)"
   ]
  },
  {
   "cell_type": "code",
   "execution_count": 25,
   "metadata": {
    "id": "7OGu1ZxQ3oF8"
   },
   "outputs": [],
   "source": [
    "def calculate_loss(predictions, labels, padding_token_index):\n",
    "    mask = tf.math.logical_not(tf.equal(labels, padding_token_index))\n",
    "    loss = criterion(labels, predictions, sample_weight=tf.cast(mask, dtype=tf.float32))\n",
    "    return tf.reduce_mean(loss)"
   ]
  },
  {
   "cell_type": "code",
   "execution_count": 26,
   "metadata": {
    "colab": {
     "base_uri": "https://localhost:8080/"
    },
    "id": "MXNcki26oS3K",
    "outputId": "ac4ba75d-5b26-4905-cffb-f2c92a19450c"
   },
   "outputs": [
    {
     "name": "stdout",
     "output_type": "stream",
     "text": [
      "Num GPUs Available:  1\n"
     ]
    },
    {
     "data": {
      "text/plain": [
       "[PhysicalDevice(name='/physical_device:GPU:0', device_type='GPU')]"
      ]
     },
     "execution_count": 26,
     "metadata": {},
     "output_type": "execute_result"
    }
   ],
   "source": [
    "print(\"Num GPUs Available: \", len(tf.config.list_physical_devices('GPU')))\n",
    "tf.config.list_physical_devices('GPU')"
   ]
  },
  {
   "cell_type": "code",
   "execution_count": 131,
   "metadata": {
    "colab": {
     "base_uri": "https://localhost:8080/",
     "height": 1000
    },
    "id": "y4We6thL3oIb",
    "outputId": "f3f7f19a-b5d2-4d8e-fd90-a58e8c60eb35"
   },
   "outputs": [
    {
     "name": "stdout",
     "output_type": "stream",
     "text": [
      "Epoch 0\n",
      "Iteration 0 : 1.8223562240600586\n",
      "English: these books were published in bengali, english, hindi, urdu, and nepali language.\n",
      "Telugu Translation: హిందీ, ఆంగ్లం, తెలుగు, ఉర్దూ, పర్షియా భాషల పుస్తకాలు డిజిటైజ్ చేసారు.\n",
      "Telugu Prediction: నంణణినననీీనననటణణణణణణణణంంిిిిిిిిిిింంిిిిిింంననయననీీీీీయయాాాంంంమమమమమంంంంంంంీీణణణణణణణణణణణణణణణ్్్ణణణణణణ్్ిిిి్్్ణణణణణణణణణణణణణణణణణణణణణణణణవణణణణణటుుుంణణణణణణణణణణిిిణణణణణణణణణణణణణణాాాణణణణణటటటిాాాాాుణణణుుుుిిి\n",
      "Evaluation translation (should we go to the mall?) : ('ంంంంానననీీనటటటటటటటంంంంంంంంిిింంంంంంంంంంంంంంంంంంయయీీీీీీీంంంంంంంంంమంంంంంంంంంంంంంంంంంంంంంంంంం్్్ంంంణణంంంం్్్్్్్్్ణణంంంణణణణాాాాాణణణణ్్ంంంంంంంటటటుంంంంణణణంంంిిిిిిణణణణణణణణణణణాాాాాాాణణాాటటాాాాాాుుుుుుుుిిి',)\n",
      "-------------------------------------------\n",
      "Iteration 500 : 1.669479489326477\n",
      "English: we are running at 7.5% per year, but will grow even faster in the coming years.\n",
      "Telugu Translation: ఇప్పుడు మనం ఏడాదికి 7.5 శాతం వృద్ధి రేటుతో ముందుకు వెళుతున్నాం.\n",
      "Telugu Prediction: నయణణిిననణణనననణణణణణణణణణసిిిిిిిిిిిిిిిిిిిింనననయయనననిిియయయాాంంంంణణణంంంంంంంంంణణణణణణణణణణణణణణణణ్్ణణణణణణణిిిిిి్్్ణణణణణణణణణణణణణణణణణణణణణణణణణణణణణణటుుుంణణణణణణణణణణిిిణణణణణణణణణణణణణాాాాణణణణణాటటిాాాాాుణణణుుుుిిి\n",
      "Evaluation translation (should we go to the mall?) : ('ంంంంాననననాాటటటటటటటంంంంంంంంిిిింంంంంంంంంిింంంంంంయయయిిిిింంంంంంంంంంంంంంంంంంంంంంంంంంంంంంంంంంంం్్్్ంంణణంంాా్్్్్్ాాాిణంంంణణణణాాాాాాణణణ్్ంంంంంంంటటటుంంంణణణణంంంిిిిిిిణణణణణణణణణాాాాాాాాణణాాటటిాాాాాుుణుుుుుిిి',)\n",
      "-------------------------------------------\n",
      "Iteration 1000 : 1.8765989542007446\n",
      "English: rightly said.\n",
      "Telugu Translation: అని నేరుగానే చెప్పేశారు.\n",
      "Telugu Prediction: నంంంననిటఋఋననటటటటటటంంంంంంంిిిిిింంింంంిిిిఋఋఋంంిిిఋఋిిిిఋఋఋాంంంంంణణణంంంంంంంంంణణణణణణణణణణణణణణణణ్్ణణణణణణుిిిిిిి్్ణణణణంంణణణణణణణణణణణణణణణణణణంంంణణణటటుంంణణణణణణణణణణిిిణణణణణణణణణణణణణాాాాణణణణణటటటాాాాాాుణణణుుుుిిి\n",
      "Evaluation translation (should we go to the mall?) : ('ంంంంాననననాాటటటటటటటంంంంంంంంిిిింంంంంంంంంిిింంంంంయయయిిిిింంంంంంంంంంంంంంంంంంంంంంంంంంంంంంంంంంంం్్్్ంంణణంంాాి్్్్్ాాాిింంంణణణణాాాాాాణణణ్్ంంంంంంంటటటుంంంంణణణంంంిిిిిిిణణణణణణణణణాాాాాాాాణణాాటటిాాాాాుుుుుుుుిిి',)\n",
      "-------------------------------------------\n",
      "Iteration 1500 : 1.6842597723007202\n",
      "English: this is also politically mooted.\n",
      "Telugu Translation: దీనిపై రాజకీయంగానూ దుమారం చెలరేగింది.\n",
      "Telugu Prediction: నయయయిినననననననటటణణణణణంంంంిిిిిిిిిింంంంిిిఋఋఋంననిిఋఋిిిిఋఋఋాంంంంంణణణంంంంంంంంంణణణణణణణణణణణణణణణణ్్్ణణణణణుిిిిిి్్్ణణణణంంణణణణణణణణణణణణణణణణణంంంంణణణటుుంంంణణణణణణణణణిిిణణణణణణణణణణణణణాాాాణణణణణటటటిాాాాాుణణణుుుుిిి\n",
      "Evaluation translation (should we go to the mall?) : ('ంంంంాానననాాటటటటటటటంంంంంంంంిిిింంంంంంంంంిిింంంంంయయిిిిిింంంంంంంంంంంంంంంంంంంంంంంంంంంంంంంంంంంం్్్్ంంణణంంాాి్్్్్ాాాిింంంణణణణాాాాాాణణణ్్ంంంంంంంటటటుంంంంణణణంంంిిిిిిిణణణణణణణణణాాాాాాాాణణాాటటిాాాాాుుుుుుుుిిి',)\n",
      "-------------------------------------------\n",
      "Iteration 2000 : 1.4193265438079834\n",
      "English: even so in this film.\n",
      "Telugu Translation: ఇప్పుడు ఈ సినిమాలో కూడా అంతే.\n",
      "Telugu Prediction: ంంంంిిిిననననటటటణణంంంంంంంంిిిింింంింంంిిిిిింంంిిిిటిిిిింాాంంంంంణణణంంంంంంంంంణణణణణణణణణణణణణణణణ్్ణణణణణణుిిిిిిి్్ణణణణంంణణణణణణణణణణణణణణణణణంంంంంణణటటుంంంణణణణణణణణణిిిణణణణణణణణణణణణణాాాాణణణణణటటటాాాాాాుణణణుుుుుిి\n",
      "Evaluation translation (should we go to the mall?) : ('ంంంంాానననాాటటటటటటటంంంంంంంంిిిింంంంంంంంంిిింంంంంయయిిిిిింంంంంంంంంంంంంంంంంంంంంంంంంంంంంంంంంంంం్్్్ంంణణణాాాి్్్్్ాాాిింంంణణణణాాాాాాణణణ్్ంంంంంంంటటటుంంంంణణణంంంిిిిిిిణణణణణణణణణాాాాాాాాణాాాటటిాాాాాుుుుుుుుిిి',)\n",
      "-------------------------------------------\n",
      "Iteration 2500 : 1.490923285484314\n",
      "English: prime minister narendra modi addresses a karnataka election campaign rally in bengaluru.\n",
      "Telugu Translation: కర్ణాటకలో హుబ్బళి బహిరంగ సభతో ప్రధాని నరేంద్ర మోడీ ఎన్నికల ప్రచారానికి శ్రీకారం చుడుతున్నారు.\n",
      "Telugu Prediction: నంణణణిననణనననటణణణణణణణణణంంిిిిిిిిిిిింిిిిింంంనననననననిిియయాాాంంంాాాాంంంంంంంంంణణణణణణణణణణణణణణణ్్్ణణణణణణణిిిిిి్్్ణణణణణణణణణణణణణణణణణణణణణణణణిణణణణణటుుుంణణణణణణణణణణిిిణణణణణణణణణణణణణాాాాణణణణణటటటాాాాాాుణణణుుుుిిి\n",
      "Evaluation translation (should we go to the mall?) : ('ంంంంాానననాాటటటటటటటంంంంంంంంిిిింంంంంంంంంిిింంంంంయయిిిిిింంంంంంంంంంంంంంంంంంంంంంంంంంంంంంంంంంంం్్్్ంంణణాాాాిిి్్్ాాాిింంంణణణణాాాాాాణణణ్్ంంంంంంంటటటుంంంంణణణంంంిిిిిిిణణణణణణణణణాాాాాాాాణాాాటటిాాాాాుుుుుుుిిిి',)\n",
      "-------------------------------------------\n",
      "Iteration 3000 : 2.1880710124969482\n",
      "English: so, one can use less material, potentially use less material to achieve the same goal as you would achieve with materials at larger sizes.\n",
      "Telugu Translation: కాబట్టి, తక్కువ పదార్ధాలను ఉపయోగించవచ్చు, పెద్ద పరిమాణంలో వస్తువులతో మీరు సాధించిన అదే లక్ష్యం సాధించడానికి తక్కువ పదార్ధాన్ని ఉపయోగించుకోవచ్చు.\n",
      "Telugu Prediction: ంంంణిిిుుణణణటటటణణణణణణణంంిిిిిిింిింంంంిిిింంంంంయయిిిుిియయంాాంంంంాాాంంంంంంంంంణణణణణణణణణణణణణణ్్్్్ణణణణణాా్్్్్్్ాాణణణాాంణణణణణాాణణణణణణ్్ణంంంంణ్టటుుంంణణణణణణణణణిిిిణణణణణణణణణణణణణాాాాాణణణాటటటాాాాాాుణణణుుుుిిి\n",
      "Evaluation translation (should we go to the mall?) : ('ంంంంాానననాాటటటటటటటంంంంంంంంిిిింంంంంంంంంిిింంంంంయయిిిిిింంంంంంంంంంంంంంంంంంంంంంంంంంంంంంంంంంంం్్్్ంంణణాాాాిిి్్్ాాాిింంంణణణణాాాాాాణణణ్్ంంంంంంంటటటుంంంంణణణంంంిిిిిిిణణణణణణణణణాాాాాాాాాాాాటటిాాాాాుుుుుుుిిిి',)\n",
      "-------------------------------------------\n",
      "Iteration 3500 : 1.548996925354004\n",
      "English: the film was written and directed by harish shankar.\n",
      "Telugu Translation: ఈ సినిమాకి హరీష్ శంకర్ దర్శకత్వం వహిస్తున్నాడు.\n",
      "Telugu Prediction: నయయిిిినిననననటణణణణణణణణిిిిిిిిిిిిిిిిిిిిిిినయయిిిిిిిిిాాంంంంుణణణంంంంంంంంంణణణణణణణణణణణణణణణ్్్్ణణణణణుిిిిిి్్్ణణణణణణణణణణణణణణణణణణణణణణణణంంంణణణటుుుంణణణణణణణణణిిిిణణణణణణణణణణణణణాాాాణణణణణటటిిాాాాాుణణణుుుుిిి\n",
      "Evaluation translation (should we go to the mall?) : ('ంంంంాానననాాటటటటటటటంంంంంంంంిిిింంంంంంంంంిిింంంంంయయిిిిిింంంంంంంంంంంంంంంంంంంంంంంంంంంంంంంంంంంం్్్్ంంణణాాాాిిి్్్ాాాిింంంణణణణాాాాాాణణణ్్ంంంంంంంటటటుంంంంణణణంంంిిిిిిిణణణణణణణణణాాాాాాాాాాాాటటిాాాాాుుుుుుుిిిి',)\n",
      "-------------------------------------------\n",
      "Iteration 4000 : 1.7150171995162964\n",
      "English: but they didn't.\n",
      "Telugu Translation: కానీ, వారి వల్ల కాలేదు.\n",
      "Telugu Prediction: నంంంననననననననటటటటటంంంంంంంంిిిిిింంింంంిిిిిింంంిిిిటిిిిిిాాంంంంంణణణంంంంంంంంంణణణణణణణణణణణణణణణణ్్ణణణణణణుణిిిిిి్్ణణణణంంణణణణణణణణణణణణణణణణణంంంంణణణటటుంంణణణణణణణణణణిిిణణణణణణణణణణణణణాాాాణణణణణటటటాాాాాాుణణణుుుుుిి\n",
      "Evaluation translation (should we go to the mall?) : ('ంంంంాానననాాటటటటటటటంంంంంంంంిిిింంంంంంంంంిిింంంంంయయిిిిిింంంంంంంంంంంంంంంంంంంంంంంంంంంంంంంంంంంం్్్్ంంణణాాాాిిిి్్ాాాిింంంణణణణాాాాాాణణణ్్ంంంంంంంటటటుంంంంణణణంంంిిిిిిిణణణణణణణణణాాాాాాాాాాాాటటిాాాాాుుుుుుుిిిి',)\n",
      "-------------------------------------------\n",
      "Iteration 4500 : 1.613614797592163\n",
      "English: the reports says that the best possible medical treatment was given to jayalalithaa.\n",
      "Telugu Translation: జయలలితకు అత్యుత్తమ వైద్యం అందించామని తెలిపారు.\n",
      "Telugu Prediction: నయయిిిినననాననటణణణణణణణణిిిిిిిిిిిిిిిిిిిిిినననిిిిిిిిిిాాాంంంుణణణంంంంంంంంంణణణణణణణణణణణణణణణణ్్్ణణణణణణ్్ిిిి్్్ణణణణణణణణణణణణణణణణణణణణణణణణణణణణణణటుుుంణణణణణణణణణణిిిణణణణణణణణణణణణణాాాాణణణణణాటటాాాాాాుణణణుుుుిిి\n",
      "Evaluation translation (should we go to the mall?) : ('ంంంంాానననాాటటటటటటటంంంంంంంంిిిిింంంంంంంంిిింంంంంయయిిిిిింంంంంంంంంంంంంంంంంంంంంంంంంంంంంంంంంంంం్్్్ంంణణాాాాిిిి్్ాాాిింంంణణణణాాాాాాణణణ్్ంంంంంంంటటటుంంంంణణణంంంిిిిిిిణణణణణణణణణాాాాాాాాాాాాటటిాాాాాుుుుుుుిిిి',)\n",
      "-------------------------------------------\n",
      "Epoch 1\n",
      "Iteration 0 : 1.6849985122680664\n",
      "English: these books were published in bengali, english, hindi, urdu, and nepali language.\n",
      "Telugu Translation: హిందీ, ఆంగ్లం, తెలుగు, ఉర్దూ, పర్షియా భాషల పుస్తకాలు డిజిటైజ్ చేసారు.\n",
      "Telugu Prediction: నయణిిననననననననటణణణణణణణణణిిిిిిిిిిిిిిిిిిిింంననయననననిిియయాాాంంంాాాానంంంంంంంంణణణణణణణణణణణణణణణణ్్ణణణణణణణిిిిిి్్్ణణణణణణణణణణణణణణణణణణణణణణణణణణణణణణటుుుంణణణణణణణణణణిిిణణణణణణణణణణణణణాాాాణణణణణటటటాాాాాాుణణణుుుుిిి\n",
      "Evaluation translation (should we go to the mall?) : ('ంంంంాానననాాటటటటటటటంంంంంంంంిిిిింంంంంంంంిిింంంంంయయిిిిిింంంంంంంంంంంంంంంంంంంంంంంంంంంంంంంంంంంం్్్్ంంణణాాాాిిిి్్ాాాిింంంణణణణాాాాాాణణణ్్ంంంంంంంటటటుంంంంణణణంంంిిిిిిిణణణణణణణణణాాాాాాాాాాాాటటిాాాాాుుుుుుుిిిి',)\n",
      "-------------------------------------------\n",
      "Iteration 500 : 1.6380128860473633\n",
      "English: we are running at 7.5% per year, but will grow even faster in the coming years.\n",
      "Telugu Translation: ఇప్పుడు మనం ఏడాదికి 7.5 శాతం వృద్ధి రేటుతో ముందుకు వెళుతున్నాం.\n",
      "Telugu Prediction: నయణిిిిిణణనననణణణణణణణణణసిిిిిిిిిిిిిిిిిిిిినననయయనననిిియయయాాంంంంణణణంంంంంంంంంణణణణణణణణణణణణణణణణ్్ణణణణణణణిిిిిి్్్ణణణణణణణణణణణణణణణణణణణణణణణణణణణణణణటుుుంణణణణణణణణణణిిిణణణణణణణణణణణణణాాాాణణణణణాటటిాాాాాుణణణుుుుిిి\n",
      "Evaluation translation (should we go to the mall?) : ('ంంంంాానననాాటటటటటటటంంంంంంంంిిిిింంంంంంంంిిింంంంంయయిిిిిింంంంంంంంంంంంంంంంంంంంంంంంంంంంంంంంంంంం్్్్ంంణణాాాాిిిి్్ాాాిింంంణణణణాాాాాాణణణ్్ంంంంంంంటటటుంంంంణణణంంంిిిిిిిణణణణణణణణణాాాాాాాాాాాాటటిాాాాాుుుుుుుిిిి',)\n",
      "-------------------------------------------\n",
      "Iteration 1000 : 1.840299129486084\n",
      "English: rightly said.\n",
      "Telugu Translation: అని నేరుగానే చెప్పేశారు.\n",
      "Telugu Prediction: నంంంినిటననననటటటటటటంంంంంంంిిిిిింంింంంిిిిిింంంిిిిటిిిిిిాాంంంంంణణణంంంంంంంంంణణణణణణణణణణణణణణణణ్్ణణణణణణుిిిిిిి్్ణణణణంంణణణణణణణణణణణణణణణణణణంంంణణణటటుంంణణణణణణణణణణిిిణణణణణణణణణణణణణాాాాణణణణణటటటాాాాాాుణణణుుుుిిి\n",
      "Evaluation translation (should we go to the mall?) : ('ంంంంాానననాాటటటటటటటంంంంంంంంిిిిింంంంంంంంిిింంంంంయయిిిిిింంంంంంంంంంంంంంంంంంంంంంంంంంంంంంంంంంంం్్్్ంంణణాాాాిిిి్్ాాాిింంంణణణణాాాాాాణణణ్్ంంంంంంంటటటుంంంంణణణంంంిిిిిిిణణణణణణణణణాాాాాాాాాాాాటటిాాాాాుుుుుుుిిిి',)\n",
      "-------------------------------------------\n",
      "Iteration 1500 : 1.6617939472198486\n",
      "English: this is also politically mooted.\n",
      "Telugu Translation: దీనిపై రాజకీయంగానూ దుమారం చెలరేగింది.\n",
      "Telugu Prediction: నయయయిినననననననటటణణణణణంంంంిిిిిిిిిింంంంిిిిింంననిిిటిిిిిిాాంంంంంణణణంంంంంంంంంణణణణణణణణణణణణణణణణ్్్ణణణణణుిిిిిి్్్ణణణణంంణణణణణణణణణణణణణణణణణంంంంణణణటుుంంణణణణణణణణణణిిిణణణణణణణణణణణణణాాాాణణణణణటటటిాాాాాుణణణుుుుిిి\n",
      "Evaluation translation (should we go to the mall?) : ('ంంంంాానననాాటటటటటటటంంంంంంంంిిిిింంంంంంంంిిింంంంంయయిిిిిింంంంంంంంంంంంంంంంంంంంంంంంంంంంంంంంంంంం్్్్ంంణణాాాాిిిి్్ాాాిింంంణణణణాాాాాాణణణ్్ంంంంంంంటటటుంంంంణణణంంంిిిిిిిణణణణణణణణణాాాాాాాాాాాాటటిాాాాాుుుుుుుిిిి',)\n",
      "-------------------------------------------\n",
      "Iteration 2000 : 1.4062477350234985\n",
      "English: even so in this film.\n",
      "Telugu Translation: ఇప్పుడు ఈ సినిమాలో కూడా అంతే.\n",
      "Telugu Prediction: ంంంంిిిిినననటటటణణంంంంంంంంిిిింింంింంంిిిిిింంంిిిిటిిిిిిాాంంంంంణణణంంంంంంంంంణణణణణణణణణణణణణణణణ్్ణణణణణణుిిిిిిి్్ణణణణంంణణణణణణణణణణణణణణణణణంంంంంణణటటుంంంణణణణణణణణణిిిణణణణణణణణణణణణణాాాాణణణణణటటటాాాాాాుణణణుుుుుిి\n",
      "Evaluation translation (should we go to the mall?) : ('ంంంంాానననాాటటటటటటటంంంంంంంంిిిిింంంంంంంంిిింంంంంయయిిిిిింంంంంంంంంంంంంంంంంంంంంంంంంంంంంంంంంంంం్్్్ంంణణాాాాిిిి్్ాాాిింంంణణణణాాాాాాణణణ్్ంంంంంంంటటటుంంంంణణణంంంిిిిిిిణణణణణణణణణాాాాాాాాాాాాటటిాాాాాుుుుుుుిిిి',)\n",
      "-------------------------------------------\n",
      "Iteration 2500 : 1.4901456832885742\n",
      "English: prime minister narendra modi addresses a karnataka election campaign rally in bengaluru.\n",
      "Telugu Translation: కర్ణాటకలో హుబ్బళి బహిరంగ సభతో ప్రధాని నరేంద్ర మోడీ ఎన్నికల ప్రచారానికి శ్రీకారం చుడుతున్నారు.\n",
      "Telugu Prediction: నయణణణిననణనననటణణణణణణణణణంంిిిిిిిిిిిింిిిిింంంనననననననిిియయాాాంంంాాాాంంంంంంంంంణణణణణణణణణణణణణణణ్్్ణణణణణణణిిిిిి్్్ణణణణణణణణణణణణణణణణణణణణణణణణిణణణణణటుుుంణణణణణణణణణణిిిణణణణణణణణణణణణణాాాాణణణణణటటటాాాాాాుణణణుుుుిిి\n",
      "Evaluation translation (should we go to the mall?) : ('ంంంంాానననాాటటటటటటటంంంంంంంంిిిిింంంంంంంంిిింంంంంయయిిిిిింంంంంంంంంంంంంంంంంంంంంంంంంంంంంంంంంంంం్్్్ంంణణాాాాిిిి్్ాాాిింంంణణణణాాాాాాణణణ్్ంంంంంంంటటటుంంంంణణణంంంిిిిిిిణణణణణణణణణాాాాాాాాాాాాటటిాాాాాుుుుుుుిిిి',)\n",
      "-------------------------------------------\n",
      "Iteration 3000 : 2.182431936264038\n",
      "English: so, one can use less material, potentially use less material to achieve the same goal as you would achieve with materials at larger sizes.\n",
      "Telugu Translation: కాబట్టి, తక్కువ పదార్ధాలను ఉపయోగించవచ్చు, పెద్ద పరిమాణంలో వస్తువులతో మీరు సాధించిన అదే లక్ష్యం సాధించడానికి తక్కువ పదార్ధాన్ని ఉపయోగించుకోవచ్చు.\n",
      "Telugu Prediction: ంంయణిిిుుణణనటటటణణణణణణణంంిిిిిిిిిింంంంిిిింంంంనయయిిిుిియయంాాంంంంాాాంంంంంంంంంణణణణణణణణణణణణణణ్్్్్ణణణణుాా్ి్్్్్ాాణణణాాాణణణణణాాాణణణణ్్్ణంంంంణ్టటుుంంణణణణణణణణణిిిిణణణణణణణణణణణణణాాాాాణణణాటటటాాాాాాుణణణుుుుిిి\n",
      "Evaluation translation (should we go to the mall?) : ('ంంంంాానననాాటటటటటటటంంంంంంంంిిిిింంంంంంంంిిింంంంంయయిిిిిింంంంంంంంంంంంంంంంంంంంంంంంంంంంంంంంంంంం్్్్ంంణణాాాాిిిి్్ాాాిింంంణణణణాాాాాాణణణ్్ంంంంంంంటటటుంంంంణణణంంంిిిిిిిణణణణణణణణణాాాాాాాాాాాాటటిాాాాాుుుుుుుిిిి',)\n",
      "-------------------------------------------\n",
      "Iteration 3500 : 1.5488226413726807\n",
      "English: the film was written and directed by harish shankar.\n",
      "Telugu Translation: ఈ సినిమాకి హరీష్ శంకర్ దర్శకత్వం వహిస్తున్నాడు.\n",
      "Telugu Prediction: నయయిిిినిననననటణణణణణణణణిిిిిిిిిిిిిిిిిిిిిిినయయిిిిిిిిిాాంంంంుణణణంంంంంంంంంణణణణణణణణణణణణణణణ్్్్ణణణణణుిిిిిి్్్ణణణణణణణణణణణణణణణణణణణణణణణణంంంణణణటుుుంణణణణణణణణణిిిిణణణణణణణణణణణణణాాాాణణణణణటటటిాాాాాుణణణుుుుిిి\n",
      "Evaluation translation (should we go to the mall?) : ('ంంంంాానననాాటటటటటటటంంంంంంంంిిిిింంంంంంంంిిింంంంంయయిిిిిింంంంంంంంంంంంంంంంంంంంంంంంంంంంంంంంంంంం్్్్ంంణణాాాాిిిి్్ాాాిింంంణణణణాాాాాాణణణ్్ంంంంంంంటటటుంంంంణణణంంంిిిిిిిణణణణణణణణణాాాాాాాాాాాాటటిాాాాాుుుుుుుిిిి',)\n",
      "-------------------------------------------\n",
      "Iteration 4000 : 1.714573621749878\n",
      "English: but they didn't.\n",
      "Telugu Translation: కానీ, వారి వల్ల కాలేదు.\n",
      "Telugu Prediction: నంంంననననననననటటటటటంంంంంంంంిిిిిింంింంంిిిిిింంంిిిిటిిిిిిాాంంంంంణణణంంంంంంంంంణణణణణణణణణణణణణణణణ్్ణణణణణణుణిిిిిి్్ణణణణంంణణణణణణణణణణణణణణణణణంంంంణణణటటుంంణణణణణణణణణణిిిణణణణణణణణణణణణణాాాాణణణణణటటటాాాాాాుణణణుుుుుిి\n",
      "Evaluation translation (should we go to the mall?) : ('ంంంంాానననాాటటటటటటటంంంంంంంంిిిిింంంంంంంంిిింంంంంయయిిిిిింంంంంంంంంంంంంంంంంంంంంంంంంంంంంంంంంంంం్్్్ంంణణాాాాిిిి్్ాాాిింంంణణణణాాాాాాణణణ్్ంంంంంంంటటటుంంంంణణణంంంిిిిిిిణణణణణణణణణాాాాాాాాాాాాటటిాాాాాుుుుుుుిిిి',)\n",
      "-------------------------------------------\n",
      "Iteration 4500 : 1.6109397411346436\n",
      "English: the reports says that the best possible medical treatment was given to jayalalithaa.\n",
      "Telugu Translation: జయలలితకు అత్యుత్తమ వైద్యం అందించామని తెలిపారు.\n",
      "Telugu Prediction: నయయిిిినననాననటణణణణణణణణిిిిిిిిిిిిిిిిిిిిిినననిిిిిిిిిిాాాంంుుణణణంంంంంంంంణణణణణణణణణణణణణణణణణ్్్ణణణణణణ్్ిిిి్్్ణణణణణణణణణణణణణణణణణణణణణణణణణణణణణణటుుుంణణణణణణణణణణిిిణణణణణణణణణణణణణాాాాణణణణణాటటాాాాాాుణణణుుుుిిి\n",
      "Evaluation translation (should we go to the mall?) : ('ంంంంాానననాాటటటటటటటంంంంంంంంిిిిింంంంంంంంిిింంంంంయయిిిిిింంంంంంంంంంంంంంంంంంంంంంంంంంంంంంంంంంంం్్్్ంంణణాాాాిిిి్్ాాాిింంంణణణణాాాాాాణణణ్్ంంంంంంంటటటుంంంంణణణంంంిిిిిిిణణణణణణణణణాాాాాాాాాాాాటటిాాాాాుుుుుుుిిిి',)\n",
      "-------------------------------------------\n",
      "Epoch 2\n",
      "Iteration 0 : 1.6848790645599365\n",
      "English: these books were published in bengali, english, hindi, urdu, and nepali language.\n",
      "Telugu Translation: హిందీ, ఆంగ్లం, తెలుగు, ఉర్దూ, పర్షియా భాషల పుస్తకాలు డిజిటైజ్ చేసారు.\n",
      "Telugu Prediction: నయణిిననననననననటణణణణణణణణణిిిిిిిిిిిిిిిిిిిిింననయననననిిియయాాాుంంాాాానంంంంంంంంణణణణణణణణణణణణణణణణ్్ణణణణణణణిిిిిి్్్ణణణణణణణణణణణణణణణణణణణణణణణణిణణణణణటుుుంణణణణణణణణణణిిిణణణణణణణణణణణణణాాాాణణణణణటటటాాాాాాుణణణుుుుిిి\n",
      "Evaluation translation (should we go to the mall?) : ('ంంంంాానననాాటటటటటటటంంంంంంంంిిిిింంంంంంంంిిింంంంంయయిిిిిింంంంంంంంంంంంంంంంంంంంంంంంంంంంంంంంంంంం్్్్ంంణణణాాాిిిి్్ాాాిింంంణణణణాాాాాాణణణ్్ంంంంంంంటటటుంంంంణణణంంంిిిిిిిిణణణణణణణణాాాాాాాాాాాాటటిాాాాాుుుుుుుిిిి',)\n",
      "-------------------------------------------\n",
      "Iteration 500 : 1.6378337144851685\n",
      "English: we are running at 7.5% per year, but will grow even faster in the coming years.\n",
      "Telugu Translation: ఇప్పుడు మనం ఏడాదికి 7.5 శాతం వృద్ధి రేటుతో ముందుకు వెళుతున్నాం.\n",
      "Telugu Prediction: నయణిిిిిణణనననణణణణణణణణణసిిిిిిిిిిిిిిిిిిిిినననయయనననిిియయయాాంంంాణణణంంంంంంంంంణణణణణణణణణణణణణణణణ్్ణణణణణణణిిిిిి్్్ణణణణణణణణణణణణణణణణణణణణణణణణణణణణణణటుుుంణణణణణణణణణణిిిణణణణణణణణణణణణణాాాాణణణణణాటటాాాాాాుణణణుుుుిిి\n",
      "Evaluation translation (should we go to the mall?) : ('ంంంంాానననాాటటటటటటటంంంంంంంంిిిిింంంంంంంంిిింంంంంయయిిిిిింంంంంంంంంంంంంంంంంంంంంంంంంంంంంంంంంంంం్్్్ంంణణణాాాిిిి్్ాాాిింంంణణణణాాాాాాణణణ్్ంంంంంంంటటటుంంంంణణణంంంిిిిిిిిణణణణణణణణాాాాాాాాాాాాటటిాాాాాుుుుుుుిిిి',)\n",
      "-------------------------------------------\n",
      "Iteration 1000 : 1.8161873817443848\n",
      "English: rightly said.\n",
      "Telugu Translation: అని నేరుగానే చెప్పేశారు.\n",
      "Telugu Prediction: నంంంినిననననననసణణంంంంంంంంంిిిిిిిిిింంిిిిిింంంిిిిిిిిిిిాాంంంంంాణణంంంంంంంంంణణణణణణణణణణణణణణణణ్్ణణణణణణుిిిిిిి్్ణణణణంంణణణణణణణణణణణణణణణణణణంంంణణణుుుంంణణణణణణణణణణిిిణణణణణణణణణణణణణాాాాణణణణణాాిాాాాాాుణణణుుుుిిి\n",
      "Evaluation translation (should we go to the mall?) : ('ంంంంాాననాాానననణంంంంంంంంంంిిిిిింంంంంంంంిిింంంంంయయిిిిిింంంంంంంంంంంంంంంంంంంంంంంింంంంంంుంంంంం్్్్ంంణణాాాాిిిి్్ాాాిింంంణణణాాాాాాాాా్్్ంంంంంంంంుుుంంంంణణణంంిిిిిిిిిిణణణాాాాాాాాాాాాాాాాాాాాాాాాుుుుుుుిిిి',)\n",
      "-------------------------------------------\n",
      "Iteration 1500 : 1.6399742364883423\n",
      "English: this is also politically mooted.\n",
      "Telugu Translation: దీనిపై రాజకీయంగానూ దుమారం చెలరేగింది.\n",
      "Telugu Prediction: నయయయిిననననననననణణణణణంంంంిిిిిిిిిిింంంంిిిిింంననిిిిిిిిిిాాంంంంంణణణంంంంంంంంంణణణణణణణణణణణణణణణ్్్్ణణణణుుిిిిిి్్్ణణణణంంణణణణణణణణణణణణణణణణణంంంంణణణుుుుంణణణణణణణణణిిిిణణణణణణణణణణణణణాాాాణణణణణాిిిాాాాాుణణణుుుుిిి\n",
      "Evaluation translation (should we go to the mall?) : ('ంంంంాాననాాానననణంంంంంంంంంంిిిిిింంంంంంంంిిింంంంంయయిిిిిింంంంంంంంంంంంంంంంంంంంంంంింంంంంంుంంంంం్్్్ంంణణాాాాిిిి్్ాాాిింంాాణణాాాాాాాాా్్్ంంంంంంంంుుుంంంంణణణంంిిిిిిిిిిణణణాాాాాాాాాాాాాాాాాాాాాాాాుుుుుుుిిిి',)\n",
      "-------------------------------------------\n",
      "Iteration 2000 : 1.386325478553772\n",
      "English: even so in this film.\n",
      "Telugu Translation: ఇప్పుడు ఈ సినిమాలో కూడా అంతే.\n",
      "Telugu Prediction: ంంంిిిిిినణననణణణణంంంంంంంంిిిిిిిిిింంిిిిిింంంిిిిిిిిిిిాాంంంంంణణణంంంంంంంంంణణణణణణణణణణణణణణణణ్్ణణణణణణుిిిిిిి్్ణణణణంంణణణణణణణణణణణణణణణణణంంంంంణణుుుంంంణణణణణణణణణిిిణణణణణణణణణణణణణాాాాణణణణణాిిిాాాాాుణణణుుుుుిి\n",
      "Evaluation translation (should we go to the mall?) : ('ంంంంాాననాాానననణంంంంంంంంంంిిిిిిింంంంంంంిిింంంంంయయిిిిిింంంంంంంంంంంంంంంంంంంంంంంింంంంంంుంంంంం్్్్ంంణణాాాాిిిి్్ాాాిింంాాణణాాాాాాాాా్్్ంంంంంంంంుుుంంంంణణణంంిిిిిిిిిిణణణాాాాాాాాాాాాాాాాాాాాాాాాుుుుుుుిిిి',)\n",
      "-------------------------------------------\n",
      "Iteration 2500 : 1.4692453145980835\n",
      "English: prime minister narendra modi addresses a karnataka election campaign rally in bengaluru.\n",
      "Telugu Translation: కర్ణాటకలో హుబ్బళి బహిరంగ సభతో ప్రధాని నరేంద్ర మోడీ ఎన్నికల ప్రచారానికి శ్రీకారం చుడుతున్నారు.\n",
      "Telugu Prediction: నయణణణిననునాననణణణణణణణణణంంిిిిిిిిిిిింిిిిిింంననననయననిిియయాాాంంాాాాానంంంంంంంంణణణణణణణణణణణణణణ్్్్్ణణణణణిిిిిిి్్్ణణణణణణణణణణణణణణణణణణణణణణణణిణణణణణుుుుంణణణణణణణణణణిిిణణణణణణణణణణణణణాాాాణణణణాాిిిాాాాాుణణణుుుుిిి\n",
      "Evaluation translation (should we go to the mall?) : ('ంంంంాాననాాానననణణంంంంంంంంంిిిిిిింంంంంంంిిింంంంంయయిిిిిిింంంంంంంంంంంంంంంంంంంంంంింంంంంంుంంంంం్్్్ంంణణాాాాిిిి్్ాాాిింంాాణణాాాాాాాాా్్్ంంంంంంంంుుుంంంంణణణంంిిిిిిిిిిణణణాాాాాాాాాాాాాాాాాాాాాాాాుుుుుుుిిిి',)\n",
      "-------------------------------------------\n",
      "Iteration 3000 : 2.152350664138794\n",
      "English: so, one can use less material, potentially use less material to achieve the same goal as you would achieve with materials at larger sizes.\n",
      "Telugu Translation: కాబట్టి, తక్కువ పదార్ధాలను ఉపయోగించవచ్చు, పెద్ద పరిమాణంలో వస్తువులతో మీరు సాధించిన అదే లక్ష్యం సాధించడానికి తక్కువ పదార్ధాన్ని ఉపయోగించుకోవచ్చు.\n",
      "Telugu Prediction: ంయయణిిిుుణానసణణణణణణణణణంంిిిిిిిిిింంంంిిిింంంంయయయిిిుిియయాాాుుుాాాాంంంంంంంంంణణణణణణణణణణణణణణ్్్్్్ణణణుాా్ి్్్్్ాాణణణాాాణణణణాాాాాణణణ్్్ణిింంణ్ణుుుుంణణణణణణణణణిిిిణణణణణణణణణణణణణాాాాాణణణాాిిాాాాాాుణణణుుుుిిి\n",
      "Evaluation translation (should we go to the mall?) : ('ంంంంాాననాాానననణణంంంంంంంంంిిిిిిింంంంంంంిిింంంంంయయిిిిిిింంంంంంంంంంంంంంంంంంంంంంింంంంంంుంంంంం్్్్ంంణణాాాాిిిి్్ాాాిింంాాణణాాాాాాాాా్్్ంంంంంంంంుుుంంంంణణణంంిిిిిిిిిిణణణాాాాాాాాాాాాాాాాాాాాాాాాుుుుుుుిిిి',)\n",
      "-------------------------------------------\n",
      "Iteration 3500 : 1.5276998281478882\n",
      "English: the film was written and directed by harish shankar.\n",
      "Telugu Translation: ఈ సినిమాకి హరీష్ శంకర్ దర్శకత్వం వహిస్తున్నాడు.\n",
      "Telugu Prediction: నయయిిిినిననననిణణణణణణణణిిిిిిిిిిిిిిిిిిిిిిియయయిిిిిిిిిాాంంంంుణణణంంంంంంంంంణణణణణణణణణణణణణణణ్్్్ణణణణుుిిిిిి్్్ణణణణణణణణణణణణణణణణణణణణణణణణింంణణణుుుుంణణణణణణణణణిిిిణణణణణణణణణణణణణాాాాణణణణణాిిిాాాాాుణణణుుుుిిి\n",
      "Evaluation translation (should we go to the mall?) : ('ంంంంాాననాాానననణణంంంంంంంంంిిిిిిిింంంంంంిిింంంంంయయిిిిిిింంంంంంంంంంంంంంంంంంంంంంింంంంంంుంంంంం్్్్ంంణణాాాాిిి్్్ాాాిింంాాణణణాాాాాాాా్్్ంంంంంంంంుుుంంంంణణణంంిిిిిిిిిిణణణాాాాాాాాాాాాాాాాాాాాాాాాుుుుుుుిిిి',)\n",
      "-------------------------------------------\n",
      "Iteration 4000 : 1.6905044317245483\n",
      "English: but they didn't.\n",
      "Telugu Translation: కానీ, వారి వల్ల కాలేదు.\n",
      "Telugu Prediction: నంంంననననననననననణణణంంంంంంంంిిిిిిిిిింంిిిిిింంంిిిిిిిిిిిాాంంంంంణణణంంంంంంంంంణణణణణణణణణణణణణణణణ్్ణణణణణణుిిిిిిి్్ణణణణంంణణణణణణణణణణణణణణణణణణంంంణణణుుుంంణణణణణణణణణణిిిణణణణణణణణణణణణణాాాాణణణణణాాిాాాాాాుణణణుుుుుిి\n",
      "Evaluation translation (should we go to the mall?) : ('ంంంంాాననాాానననణణంంంంంంంంంిిిిిిిింంంంంంిిింంంంంయయిిిిిిింంంంంంంంంంంంంంంంంంంంంంింంంంంంుంంంంం్్్్ంంణణాాాాిిిి్్ాాాిింంాాణణాాాాాాాాా్్్ంంంంంంంంుుుంంంంణణణంంిిిిిిిిిిణణణాాాాాాాాాాాాాాాాాాాాాాాాుుుుుుుిిిి',)\n",
      "-------------------------------------------\n",
      "Iteration 4500 : 1.5882489681243896\n",
      "English: the reports says that the best possible medical treatment was given to jayalalithaa.\n",
      "Telugu Translation: జయలలితకు అత్యుత్తమ వైద్యం అందించామని తెలిపారు.\n",
      "Telugu Prediction: నయయిిిినననాననిణణణణణణణణిిిిిిిిిిిిిిిిిిిిిినననిిిిిిిిిిాాాంంుుణణణంంంంంంంంంణణణణణణణణణణణణణణణ్్్్ణణణణణు్ిిిిి్్్ణణణణణణణణణణణణణణణణణణణణణణణణిణణణణణుుుుంణణణణణణణణణణిిిణణణణణణణణణణణణణాాాాణణణణాాాిాాాాాాుణణణుుుుిిి\n",
      "Evaluation translation (should we go to the mall?) : ('ంంంంాాననాాానననణణంంంంంంంంంిిిిిిిింంంంంంిిింంంంంయయిిిిిిింంంంంంంంంంంంంంంంంంంంంంింంంంంంుంంంంం్్్్ంంణణాాాాిిి్్్ాాాిింంాాణణణాాాాాాాా్్్ంంంంంంంంుుుంంంంణణణంంిిిిిిిిిిణణణాాాాాాాాాాాాాాాాాాాాాాాాుుుుుుుిిిి',)\n",
      "-------------------------------------------\n",
      "Epoch 3\n",
      "Iteration 0 : 1.6621638536453247\n",
      "English: these books were published in bengali, english, hindi, urdu, and nepali language.\n",
      "Telugu Translation: హిందీ, ఆంగ్లం, తెలుగు, ఉర్దూ, పర్షియా భాషల పుస్తకాలు డిజిటైజ్ చేసారు.\n",
      "Telugu Prediction: నయణిిననననననననసణణణణణణణససిిిిిిిిిిిిిిిిిిిిింననయననననిిియయాాాుుంాాాానంంంంంంంంణణణణణణణణణణణణణణణణ్్్ణణణణణిిిిిిి్్్ణణణణణణణణణణణణణణణణణణణణణణణణిణణణణణుుుుంణణణణణణణణణణిిిణణణణణణణణణణణణణాాాాణణణణణాిిిాాాాాుణణణుుుుిిి\n",
      "Evaluation translation (should we go to the mall?) : ('ంంంంాాననాాానననణణంంంంంంంంంిిిిిిిింంంంంంిిింంంంంయయిిిిిిింంంంంంంంంంంంంంంంంంంంంంింంంంంంుంంంంం్్్్ంంణణాాాాిిి్్్ాాాిింంాాణణణాాాాాాాా్్్ంంంంంంంంుుుంంంంణణణంంిిిిిిిిిిణణణాాాాాాాాాాాాాాాాాాాాాాాాుుుుుుుిిిి',)\n",
      "-------------------------------------------\n",
      "Iteration 500 : 1.6152942180633545\n",
      "English: we are running at 7.5% per year, but will grow even faster in the coming years.\n",
      "Telugu Translation: ఇప్పుడు మనం ఏడాదికి 7.5 శాతం వృద్ధి రేటుతో ముందుకు వెళుతున్నాం.\n",
      "Telugu Prediction: నయణిిిిిణణనననణణణణణణణణణసిిిిిిిిిిిిిిిిిిిిినననయయననిిిియయయాాుుంాణణణంంంంంంంంంణణణణణణణణణణణణణణణణ్్్ణణణణణిిిిిిి్్్ణణణణణణణణణణణణణణణణణణణణణణణణిణణణణణుుుుంణణణణణణణణణణిిిణణణణణణణణణణణణణాాాాణణణణణాిిిాాాాాుణణణుుుుిిి\n",
      "Evaluation translation (should we go to the mall?) : ('ంంంంాాననాాానననణణంంంంంంంంంిిిిిిిింంంంంంిిింంంంంయయిిిిిిింంంంంంంంంంంంంంంంంంంంంంింంంంంంుంంంంం్్్్ంంణణాాాాిిిి్్ాాాిింంాాణణణాాాాాాాా్్్ంంంంంంంంుుుంంంంణణణంంిిిిిిిిిిణణణాాాాాాాాాాాాాాాాాాాాాాాాుుుుుుుిిిి',)\n",
      "-------------------------------------------\n",
      "Iteration 1000 : 1.8155934810638428\n",
      "English: rightly said.\n",
      "Telugu Translation: అని నేరుగానే చెప్పేశారు.\n",
      "Telugu Prediction: ననంంినిననననననసణణంంంంంంంంంిిిిిిిిిింంిిిిిింంంిిిిిిిిిిిాాంంంంంాణణంంంంంంంంంణణణణణణణణణణణణణణణణ్్ణణణణణణుిిిిిిి్్ణణణణంంణణణణణణణణణణణణణణణణణణంంంణణణుుుంంణణణణణణణణణణిిిణణణణణణణణణణణణణాాాాణణణణణాాిాాాాాాుణణణుుుుిిి\n",
      "Evaluation translation (should we go to the mall?) : ('ంంంంాానననాానననణణంంంంంంంంంిిిిిిిింంంంంంిిింంంంంయయిిిిిిింంంంంంంంంంంంంంంంంంంంంంింంంంంంుంంంంం్్్్ంంణణాాాాిిి్్్ాాాిింంాాణణణాాాాాాాా్్్ంంంంంంంంుుుంంంంణణణంంిిిిిిిిిిణణణాాాాాాాాాాాాాాాాాాాాాాాాుుుుుుుిిిి',)\n",
      "-------------------------------------------\n",
      "Iteration 1500 : 1.6398049592971802\n",
      "English: this is also politically mooted.\n",
      "Telugu Translation: దీనిపై రాజకీయంగానూ దుమారం చెలరేగింది.\n",
      "Telugu Prediction: నయయయిిననననననననణణణణణంంంంిిిిిిిిిిింంంంిిిిింంననిిిిిిిిిిాాంంంంంణణణంంంంంంంంంణణణణణణణణణణణణణణణ్్్్ణణణణుుిిిిిి్్్ణణణణంంణణణణణణణణణణణణణణణణణంంంంణణణుుుుంణణణణణణణణణిిిిణణణణణణణణణణణణణాాాాణణణణణాిిిాాాాాుణణణుుుుిిి\n",
      "Evaluation translation (should we go to the mall?) : ('ంంంంాానననాానననణణంంంంంంంంంిిిిిిిింంంంంంిిింంంంంయయిిిిిిింంంంంంంంంంంంంంంంంంంంంంింంంంంంుంంంంం్్్్ంంణణాాాాిిి్్్ాాాిింంాాణణణాాాాాాాా్్్ంంంంంంంంుుుంంంంణణణంంిిిిిిిిిిణణణాాాాాాాాాాాాాాాాాాాాాాాాుుుుుుుిిిి',)\n",
      "-------------------------------------------\n",
      "Iteration 2000 : 1.3863052129745483\n",
      "English: even so in this film.\n",
      "Telugu Translation: ఇప్పుడు ఈ సినిమాలో కూడా అంతే.\n",
      "Telugu Prediction: ంంంిిిిిినణననణణణణణంంంంంంంిిిిిిిిిింంిిిిిింంంిిిిిిిిిిిాాంంంంంణణణంంంంంంంంంణణణణణణణణణణణణణణణణ్్ణణణణణణుిిిిిిి్్ణణణణంంణణణణణణణణణణణణణణణణణంంంంణణణుుుంంంణణణణణణణణణిిిణణణణణణణణణణణణణాాాాణణణణణాిిిాాాాాుణణణుుుుుిి\n",
      "Evaluation translation (should we go to the mall?) : ('ంంంంాానననాానననణణంంంంంంంంంిిిిిిిింంంంంంిిింంంంంయయిిిిిిింంంంంంంంంంంంంంంంంంంంంంింంంంంంుంంంంం్్్్ంంణణాాాాిిి్్్ాాాిింంాాణణణాాాాాాాా్్్ంంంంంంంంుుుంంంంణణణంంిిిిిిిిిిణణణాాాాాాాాాాాాాాాాాాాాాాాాుుుుుుుిిిి',)\n",
      "-------------------------------------------\n",
      "Iteration 2500 : 1.4692431688308716\n",
      "English: prime minister narendra modi addresses a karnataka election campaign rally in bengaluru.\n",
      "Telugu Translation: కర్ణాటకలో హుబ్బళి బహిరంగ సభతో ప్రధాని నరేంద్ర మోడీ ఎన్నికల ప్రచారానికి శ్రీకారం చుడుతున్నారు.\n",
      "Telugu Prediction: నయణణణిననునాననణణణణణణణణణంిిిిిిిిిిిిిిిిిిిింంననననయననిిియయాాాంుాాాాానంంంంంంంంణణణణణణణణణణణణణణ్్్్్ణణణణణిిిిిిి్్్ణణణణణణణణణణణణణణణణణణణణణణణణిణణణణణుుుుంణణణణణణణణణణిిిణణణణణణణణణణణణణాాాాణణణణాాిిిాాాాాుణణణుుుుిిి\n",
      "Evaluation translation (should we go to the mall?) : ('ంంంంాానననాానననణణంంంంంంంంంిిిిిిిింంంంంంిిింంంంంయయిిిిిిింంంంంంంంంంంంంంంంంంంంంంింంంంంంుంంంంం్్్్ంంణణాాాాిిిి్్ాాాిింంాాణణణాాాాాాాా్్్ంంంంంంంంుుుంంంంణణణంంిిిిిిిిిిణణణాాాాాాాాాాాాాాాాాాాాాాాాుుుుుుుిిిి',)\n",
      "-------------------------------------------\n",
      "Iteration 3000 : 2.152283191680908\n",
      "English: so, one can use less material, potentially use less material to achieve the same goal as you would achieve with materials at larger sizes.\n",
      "Telugu Translation: కాబట్టి, తక్కువ పదార్ధాలను ఉపయోగించవచ్చు, పెద్ద పరిమాణంలో వస్తువులతో మీరు సాధించిన అదే లక్ష్యం సాధించడానికి తక్కువ పదార్ధాన్ని ఉపయోగించుకోవచ్చు.\n",
      "Telugu Prediction: ంయయణిిిుుణానసణణణణణణణణణంంిిిిిిిిిిింంంిిిింంంంయయయిిిుిియయాాాుుుాాాాంంంంంంంంంణణణణణణణణణణణణణణ్్్్్్ణణణుాా్ి్్్్్ాాణణణాాాణణణణాాాాాణణణ్్్ణిింంణ్ణుుుుంణణణణణణణణణిిిిణణణణణణణణణణణణణాాాాాణణణాాిిిాాాాాుణణణుుుుిిి\n",
      "Evaluation translation (should we go to the mall?) : ('ంంంంాానననాానననణణంంంంంంంంంిిిిిిిింంంంంంిిింంంంంయయిిిిిిింంంంంంంంంంంంంంంంంంంంంంింంంంంంుంంంంం్్్్ంంణణాాాాిిి్్్ాాాిింంాాణణణాాాాాాాా్్్ంంంంంంంంుుుంంంంణణణంంిిిిిిిిిిణణణాాాాాాాాాాాాాాాాాాాాాాాాుుుుుుుిిిి',)\n",
      "-------------------------------------------\n",
      "Iteration 3500 : 1.527695655822754\n",
      "English: the film was written and directed by harish shankar.\n",
      "Telugu Translation: ఈ సినిమాకి హరీష్ శంకర్ దర్శకత్వం వహిస్తున్నాడు.\n",
      "Telugu Prediction: నయయిిిినిననననిణణణణణణణణిిిిిిిిిిిిిిిిిిిిిిియయయిిిిిిిిిాాంంంంుణణణంంంంంంంంంణణణణణణణణణణణణణణణ్్్్ణణణణుుిిిిిి్్్ణణణణణణణణణణణణణణణణణణణణణణణణింంణణణుుుుంణణణణణణణణణిిిిణణణణణణణణణణణణణాాాాణణణణణాిిిాాాాాుణణణుుుుిిి\n",
      "Evaluation translation (should we go to the mall?) : ('ంంంంాానననాానననణణంంంంంంంంంిిిిిిిింంంంంంిిింంంంంయయిిిిిిింంంంంంంంంంంంంంంంంంంంంంింంంంంంుంంంంం్్్్ంంణణాాాాిిి్్్ాాాిింంాాణణణాాాాాాాా్్్ంంంంంంంంుుుంంంంణణణంంిిిిిిిిిిణణణాాాాాాాాాాాాాాాాాాాాాాాాుుుుుుుిిిి',)\n",
      "-------------------------------------------\n",
      "Iteration 4000 : 1.6905044317245483\n",
      "English: but they didn't.\n",
      "Telugu Translation: కానీ, వారి వల్ల కాలేదు.\n",
      "Telugu Prediction: నంంంననననననననననణణణణంంంంంంంిిిిిిిిిింంిిిిిింంంిిిిిిిిిిిాాంంంంంణణణంంంంంంంంంణణణణణణణణణణణణణణణణ్్ణణణణణణుిిిిిిి్్ణణణణంంణణణణణణణణణణణణణణణణణణంంంణణణుుుంంణణణణణణణణణణిిిణణణణణణణణణణణణణాాాాణణణణణాాిాాాాాాుణణణుుుుుిి\n",
      "Evaluation translation (should we go to the mall?) : ('ంంంయాానననాానననణణంంంంంంంంంిిిిిిిింంంంంంిిింంంంంయయిిిిిిింంంంంంంంంంంంంంంంంంంంంంింంంంంంుంంంంం్్్్ంంణణాాాాిిి్్్ాాాిింంాాణణణాాాాాాాా్్్ంంంంంంంంుుుంంంంణణణంంిిిిిిిిిిణణణాాాాాాాాాాాాాాాాాాాాాాాాుుుుుుుిిిి',)\n",
      "-------------------------------------------\n",
      "Iteration 4500 : 1.5882376432418823\n",
      "English: the reports says that the best possible medical treatment was given to jayalalithaa.\n",
      "Telugu Translation: జయలలితకు అత్యుత్తమ వైద్యం అందించామని తెలిపారు.\n",
      "Telugu Prediction: నయయిిిినననాననిణణణణణణణణిిిిిిిిిిిిిిిిిిిిిినననిిిిిిిిిిాాాంంుుణణణంంంంంంంంణణణణణణణణణణణణణణణణణ్్్ణణణణణు్ిిిిి్్్ణణణణణణణణణణణణణణణణణణణణణణణణిణణణణణుుుుంణణణణణణణణణణిిిణణణణణణణణణణణణణాాాాణణణణాాాిాాాాాాుణణణుుుుిిి\n",
      "Evaluation translation (should we go to the mall?) : ('ంంయయాానననాానననణణంంంంంంంంంిిిిిిిింంంంంంిిింంంంంయయిిిిిిింంంంంంంంంంంంంంంంంంంంంంింంంంంంుంంంంం్్్్ంంణణాాాాిిి్్్ాాాిింంాాణణణాాాాాాాా్్్ంంంంంంంంుుుంంంంణణణంంిిిిిిిిిిణణణాాాాాాాాాాాాాాాాాాాాాాాాుుుుుుుిిిి',)\n",
      "-------------------------------------------\n",
      "Epoch 4\n",
      "Iteration 0 : 1.6621636152267456\n",
      "English: these books were published in bengali, english, hindi, urdu, and nepali language.\n",
      "Telugu Translation: హిందీ, ఆంగ్లం, తెలుగు, ఉర్దూ, పర్షియా భాషల పుస్తకాలు డిజిటైజ్ చేసారు.\n",
      "Telugu Prediction: నయణిిననననననననసణణణణణణణససిిిిిిిిిిిిిిిిిిిిింననయననననిిియయాాాుుంాాాానంంంంంంంంణణణణణణణణణణణణణణణణ్్్ణణణణణిిిిిిి్్్ణణణణణణణణణణణణణణణణణణణణణణణణిణణణణణుుుుంణణణణణణణణణణిిిణణణణణణణణణణణణణాాాాణణణణణాిిిాాాాాుణణణుుుుిిి\n",
      "Evaluation translation (should we go to the mall?) : ('ంంయయాానననాానననణణంంంంంంంంంిిిిిిిింంంంంంిిింంంంంయయిిిిిిింంంంంంంంంంంంంంంంంంంంంంింంంంంంుంంంంం్్్్ంంణణాాాాిిి్్్ాాాిింంాాణణణాాాాాాాా్్్ంంంంంంంంుుుంంంంణణణంంిిిిిిిిిిణణణాాాాాాాాాాాాాాాాాాాాాాాాుుుుుుుిిిి',)\n",
      "-------------------------------------------\n",
      "Iteration 500 : 1.6152942180633545\n",
      "English: we are running at 7.5% per year, but will grow even faster in the coming years.\n",
      "Telugu Translation: ఇప్పుడు మనం ఏడాదికి 7.5 శాతం వృద్ధి రేటుతో ముందుకు వెళుతున్నాం.\n",
      "Telugu Prediction: నయణిిిిిణణనననణణణణణణణణణసిిిిిిిిిిిిిిిిిిిిినననయయననిిిియయయాాుుంాణణణంంంంంంంంంణణణణణణణణణణణణణణణణ్్ణణణణణణిిిిిిి్్్ణణణణణణణణణణణణణణణణణణణణణణణణిణణణణణుుుుంణణణణణణణణణణిిిణణణణణణణణణణణణణాాాాణణణణణాిిిాాాాాుణణణుుుుిిి\n",
      "Evaluation translation (should we go to the mall?) : ('ంంయయాానననాానననణణంంంంంంంంంిిిిిిిింంంంంంిిింంంంంయయిిిిిిింంంంంంంంంంంంంంంంంంంంంంింంంంంంుంంంంం్్్్ంంణణాాాాిిి్్్ాాాిింంాాణణణాాాాాాాా్్్ంంంంంంంంుుుంంంంణణణంంిిిిిిిిిిణణణాాాాాాాాాాాాాాాాాాాాాాాాుుుుుుుిిిి',)\n",
      "-------------------------------------------\n",
      "Iteration 1000 : 1.8155913352966309\n",
      "English: rightly said.\n",
      "Telugu Translation: అని నేరుగానే చెప్పేశారు.\n",
      "Telugu Prediction: ననంంినిననననననసణణంంంంంంంంంిిిిిిిిిింంిిిిిింంంిిిిిిిిిిిాాంంంంంాణణంంంంంంంంంణణణణణణణణణణణణణణణణ్్ణణణణణణుిిిిిిి్్ణణణణణంణణణణణణణణణణణణణణణణణణంంంణణణుుుంంణణణణణణణణణణిిిణణణణణణణణణణణణణాాాాణణణణణాాిాాాాాాుణణణుుుుిిి\n",
      "Evaluation translation (should we go to the mall?) : ('ంంయయాానననాానననణణంంంంంంంంంిిిిిిిింంంంంంిిింంంంంయయిిిిిిింంంంంంంంంంంంంంంంంంంంంంింంంంంంుంంంంం్్్్ంంణణాాాాిిి్్్ాాాిింంాాణణణాాాాాాాా్్్ంంంంంంంంుుుంంంంణణణంంిిిిిిిిిిణణణాాాాాాాాాాాాాాాాాాాాాాాాుుుుుుుిిిి',)\n",
      "-------------------------------------------\n",
      "Iteration 1500 : 1.6398049592971802\n",
      "English: this is also politically mooted.\n",
      "Telugu Translation: దీనిపై రాజకీయంగానూ దుమారం చెలరేగింది.\n",
      "Telugu Prediction: నయయయిిననననననననణణణణణణంంంిిిిిిిిిిింంంంిిిిింంననిిిిిిిిిిాాంంంంంణణణంంంంంంంంంణణణణణణణణణణణణణణణ్్్్ణణణణణుిిిిిి్్్ణణణణంంణణణణణణణణణణణణణణణణణంంంంణణణుుుుంణణణణణణణణణిిిిణణణణణణణణణణణణణాాాాణణణణణాిిిాాాాాుణణణుుుుిిి\n",
      "Evaluation translation (should we go to the mall?) : ('ంంయయాానననాానననణణంంంంంంంంంిిిిిిిింంంంంిిిింంంంంయయిిిిిిింంంంంంంంంంంంంంంంంంంంంంింంంంంంుంంంంం్్్్ంంణణాాాాిిి్్్ాాాిింంాాణణణాాాాాాాా్్్ంంంంంంంంుుుంంంంణణణంంిిిిిిిిిిణణణాాాాాాాాాాాాాాాాాాాాాాాాుుుుుుుిిిి',)\n",
      "-------------------------------------------\n",
      "Iteration 2000 : 1.3863052129745483\n",
      "English: even so in this film.\n",
      "Telugu Translation: ఇప్పుడు ఈ సినిమాలో కూడా అంతే.\n",
      "Telugu Prediction: నంంిిిిిినణననణణణణణంంంంంంిిిిిిిిిిింంిిిిిింంంిిిిిిిిిిిాాంంంంంణణణంంంంంంంంంణణణణణణణణణణణణణణణణ్్ణణణణణణుిిిిిిి్్ణణణణంంణణణణణణణణణణణణణణణణణంంంంణణణుుుంంణణణణణణణణణణిిిణణణణణణణణణణణణణాాాాణణణణణాిిిాాాాాుణణణుుుుిిి\n",
      "Evaluation translation (should we go to the mall?) : ('ంంయయాానననాానననణణంంంంంంంంంిిిిిిిింంంంంిిిింంంంంయయిిిిిిింంంంంంంంంంంంంంంంంంంంంంింంంంంంుంంంంం్్్్ంంణణాాాాిిి్్్ాాాిింంాాణణణాాాాాాాా్్్ంంంంంంంంుుుంంంంణణణంంిిిిిిిిిిణణణాాాాాాాాాాాాాాాాాాాాాాాాుుుుుుుిిిి',)\n",
      "-------------------------------------------\n",
      "Iteration 2500 : 1.4692431688308716\n",
      "English: prime minister narendra modi addresses a karnataka election campaign rally in bengaluru.\n",
      "Telugu Translation: కర్ణాటకలో హుబ్బళి బహిరంగ సభతో ప్రధాని నరేంద్ర మోడీ ఎన్నికల ప్రచారానికి శ్రీకారం చుడుతున్నారు.\n",
      "Telugu Prediction: నయణణణినననననననణణణణణణణణణంిిిిిిిిిిిిిిిిిిిింంననననయననిిియయాాాంుాాాాానంంంంంంంంణణణణణణణణణణణణణణ్్్్్ణణణణణిిిిిిి్్్ణణణణణణణణణణణణణణణణణణణణణణణణిణణణణణుుుుిణణణణణణణణణణిిిణణణణణణణణణణణణణాాాాణణణణాాిిిాాాాాుణణణుుుుిిి\n",
      "Evaluation translation (should we go to the mall?) : ('ంంయయాానననాానననణణంంంంంంంంంిిిిిిిింంంంంిిిింంంంంయయిిిిిిింంంంంంంంంంంంంంంంంంంంంంింంంంంంుంంంంం్్్్ంంణణాాాాిిి్్్ాాాిింంాాణణణాాాాాాాా్్్ంంంంంంంంుుుంంంంణణణంంిిిిిిిిిిణణణాాాాాాాాాాాాాాాాాాాాాాాాుుుుుుుిిిి',)\n",
      "-------------------------------------------\n",
      "Iteration 3000 : 2.152282476425171\n",
      "English: so, one can use less material, potentially use less material to achieve the same goal as you would achieve with materials at larger sizes.\n",
      "Telugu Translation: కాబట్టి, తక్కువ పదార్ధాలను ఉపయోగించవచ్చు, పెద్ద పరిమాణంలో వస్తువులతో మీరు సాధించిన అదే లక్ష్యం సాధించడానికి తక్కువ పదార్ధాన్ని ఉపయోగించుకోవచ్చు.\n",
      "Telugu Prediction: ంయయణిిిుుణానసణణణణణణణణణంంిిిిిిిిిిింంంిిిింంంంయయయిిిుిియయాాాుుుాాాాంంంంంంంంంణణణణణణణణణణణణణణ్్్్్్ణణణుాా్ి్్్్్ాాణణణాాాణణణణాాాాాణణణ్్్ణిింయణ్ణుుుుంణణణణణణణణణిిిిణణణణణణణణణణణణణాాాాాణణణాాిిిాాాాాుణణణుుుుిిి\n",
      "Evaluation translation (should we go to the mall?) : ('ంంయయాానననాానననణణంంంంంంంంంిిిిిిిింంంంంిిిింంంంంయయిిిిిిింంంంంంంంంంంంంంంంంంంంంంింంంంంంుంంంంం్్్్ంంణణాాాాిిి్్్ాాాిింంాాణణణాాాాాాాా్్్ంంంంంంంంుుుంంంంణణణంంిిిిిిిిిిణణణాాాాాాాాాాాాాాాాాాాాాాాాుుుుుుుిిిి',)\n",
      "-------------------------------------------\n",
      "Iteration 3500 : 1.527695655822754\n",
      "English: the film was written and directed by harish shankar.\n",
      "Telugu Translation: ఈ సినిమాకి హరీష్ శంకర్ దర్శకత్వం వహిస్తున్నాడు.\n",
      "Telugu Prediction: నయయిిిినిననననిణణణణణణణణిిిిిిిిిిిిిిిిిిిిిిియయయిిిిిిిిిాాంంంంుణణణంంంంంంంంంణణణణణణణణణణణణణణణ్్్్ణణణణుుిిిిిి్్్ణణణణణణణణణణణణణణణణణణణణణణణణింంణణణుుుుంణణణణణణణణణిిిిణణణణణణణణణణణణణాాాాణణణణణాిిిాాాాాుణణణుుుుిిి\n",
      "Evaluation translation (should we go to the mall?) : ('ంంయయాానననాానననణణంంంంంంంంంిిిిిిిింంంంంిిిింంంంంయయిిిిిిింంంంంంంంంంంంంంంంంంంంంంింంంంంంుంంంంం్్్్ంంణణాాాాిిి్్్ాాాిింంాాణణణాాాాాాాా్్్ంంంంంంంంుుుంంంంణణణంంిిిిిిిిిిణణణాాాాాాాాాాాాాాాాాాాాాాాాుుుుుుుిిిి',)\n",
      "-------------------------------------------\n",
      "Iteration 4000 : 1.6905044317245483\n",
      "English: but they didn't.\n",
      "Telugu Translation: కానీ, వారి వల్ల కాలేదు.\n",
      "Telugu Prediction: నంంంననననననననననణణణణంంంంంంంిిిిిిిిిింంిిిిిింంంిిిిిిిిిిిాాంంంంంణణణంంంంంంంంంణణణణణణణణణణణణణణణణ్్ణణణణణణుిిిిిిి్్ణణణణంంణణణణణణణణణణణణణణణణణణంంంణణణుుుంంణణణణణణణణణణిిిణణణణణణణణణణణణణాాాాణణణణణాాిాాాాాాుణణణుుుుుిి\n",
      "Evaluation translation (should we go to the mall?) : ('ంంయయాానననాానననణణంంంంంంంంంిిిిిిిింంంంంిిిింంంంంయయిిిిిిింంంంంంంంంంంంంంంంంంంంంంింంంంంంుంంంంం్్్్ంంణణాాాాిిి్్్ాాాిింంాాణణణాాాాాాాా్్్ంంంంంంంంుుుంంంంణణణంంిిిిిిిిిిణణణాాాాాాాాాాాాాాాాాాాాాాాాుుుుుుుిిిి',)\n",
      "-------------------------------------------\n",
      "Iteration 4500 : 1.5882376432418823\n",
      "English: the reports says that the best possible medical treatment was given to jayalalithaa.\n",
      "Telugu Translation: జయలలితకు అత్యుత్తమ వైద్యం అందించామని తెలిపారు.\n",
      "Telugu Prediction: నయయిిిినననాననిణణణణణణణణిిిిిిిిిిిిిిిిిిిిిినననిిిిిిిిిిాాాంంుుణణణంంంంంంంంణణణణణణణణణణణణణణణణణ్్్ణణణణణు్ిిిిి్్్ణణణణణణణణణణణణణణణణణణణణణణణణిణణణణణుుుుంణణణణణణణణణణిిిణణణణణణణణణణణణణాాాాణణణణణాాిాాాాాాుణణణుుుుిిి\n",
      "Evaluation translation (should we go to the mall?) : ('ంంయయాానననాానననణణంంంంంంంంంిిిిిిిింంంంంిిిింంంంంయయిిిిిిింంంంంంంంంంంంంంంంంంంంంంింంంంంంుంంంంం్్్్ంంణణాాాాిిి్్్ాాాిింంాాణణణాాాాాాాా్్్ంంంంంంంంుుుంంంంణణణంంిిిిిిిిిిణణణాాాాాాాాాాాాాాాాాాాాాాాాుుుుుుుిిిి',)\n",
      "-------------------------------------------\n",
      "Epoch 5\n",
      "Iteration 0 : 1.6621636152267456\n",
      "English: these books were published in bengali, english, hindi, urdu, and nepali language.\n",
      "Telugu Translation: హిందీ, ఆంగ్లం, తెలుగు, ఉర్దూ, పర్షియా భాషల పుస్తకాలు డిజిటైజ్ చేసారు.\n",
      "Telugu Prediction: నయణిిననననననననసణణణణణణణససిిిిిిిిిిిిిిిిిిిిింననయననననిిియయాాాుుంాాాానంంంంంంంంణణణణణణణణణణణణణణణణ్్్ణణణణణిిిిిిి్్్ణణణణణణణణణణణణణణణణణణణణణణణణిణణణణణుుుుంణణణణణణణణణణిిిణణణణణణణణణణణణణాాాాణణణణణాిిిాాాాాుణణణుుుుిిి\n",
      "Evaluation translation (should we go to the mall?) : ('ంంయయాానననాానననణణంంంంంంంంంిిిిిిిింంంంంిిిింంంంంయయిిిిిిింంంంంంంంంంంంంంంంంంంంంంింంంంంంుంంంంం్్్్ంంణణాాాాిిి్్్ాాాిింంాాణణణాాాాాాాా్్్ంంంంంంంంుుుంంంంణణణంంిిిిిిిిిిణణణాాాాాాాాాాాాాాాాాాాాాాాాుుుుుుుిిిి',)\n",
      "-------------------------------------------\n",
      "Iteration 500 : 1.6152942180633545\n",
      "English: we are running at 7.5% per year, but will grow even faster in the coming years.\n",
      "Telugu Translation: ఇప్పుడు మనం ఏడాదికి 7.5 శాతం వృద్ధి రేటుతో ముందుకు వెళుతున్నాం.\n",
      "Telugu Prediction: నయణిిిిిణణనననణణణణణణణణణసిిిిిిిిిిిిిిిిిిిిినననయయననిిిియయయాాుుంాణణణంంంంంంంంంణణణణణణణణణణణణణణణణ్్ణణణణణణిిిిిిి్్్ణణణణణణణణణణణణణణణణణణణణణణణణిణణణణణుుుుంణణణణణణణణణణిిిణణణణణణణణణణణణణాాాాణణణణణాిిిాాాాాుణణణుుుుిిి\n",
      "Evaluation translation (should we go to the mall?) : ('ంంయయాానననాానననణణంంంంంంంంంిిిిిిిింంంంంిిిింంంంంయయిిిిిిింంంంంంంంంంంంంంంంంంంంంంింంంంంంుంంంంం్్్్ంంణణాాాాిిి్్్ాాాిింంాాణణణాాాాాాాా్్్ంంంంంంంంుుుంంంంణణణంంిిిిిిిిిిణణణాాాాాాాాాాాాాాాాాాాాాాాాుుుుుుుిిిి',)\n",
      "-------------------------------------------\n",
      "Iteration 1000 : 1.8155913352966309\n",
      "English: rightly said.\n",
      "Telugu Translation: అని నేరుగానే చెప్పేశారు.\n",
      "Telugu Prediction: ననంంినిననననననసణణంంంంంంంంంిిిిిిిిిింంిిిిిింంంిిిిిిిిిిిాాంంంంంణణణంంంంంంంంంణణణణణణణణణణణణణణణణ్్ణణణణణణుిిిిిిి్్ణణణణణంణణణణణణణణణణణణణణణణణణంంంణణణుుుంంణణణణణణణణణణిిిణణణణణణణణణణణణణాాాాణణణణణాాిాాాాాాుణణణుుుుిిి\n",
      "Evaluation translation (should we go to the mall?) : ('ంంయయాానననాానననణణంంంంంంంంంిిిిిిిింంంంంిిిింంంంంయయిిిిిిింంంంంంంంంంంంంంంంంంంంంంింంంంంంుంంంంం్్్్ంంణణాాాాిిి్్్ాాాిింంాాణణణాాాాాాాా్్్ంంంంంంంంుుుంంంంణణణంంిిిిిిిిిిణణణాాాాాాాాాాాాాాాాాాాాాాాాుుుుుుుిిిి',)\n",
      "-------------------------------------------\n",
      "Iteration 1500 : 1.6398049592971802\n",
      "English: this is also politically mooted.\n",
      "Telugu Translation: దీనిపై రాజకీయంగానూ దుమారం చెలరేగింది.\n",
      "Telugu Prediction: నయయయిిననననననననణణణణణణంంంిిిిిిిిిిింంంంిిిిింంననిిిిిిిిిిాాంంంంంణణణంంంంంంంంంణణణణణణణణణణణణణణణణ్్్ణణణణణుిిిిిి్్్ణణణణంంణణణణణణణణణణణణణణణణణంంంంణణణుుుుంణణణణణణణణణిిిిణణణణణణణణణణణణణాాాాణణణణణాిిిాాాాాుణణణుుుుిిి\n",
      "Evaluation translation (should we go to the mall?) : ('ంంయయాానననాానననణణంంంంంంంంంిిిిిిిింంంంంిిిింంంంంయయిిిిిిింంంంంంంంంంంంంంంంంంంంంంింంంంంంుంంంంం్్్్ంంణణాాాాిిి్్్ాాాిింంాాణణణాాాాాాాా్్్ంంంంంంంంుుుంంంంణణణంంిిిిిిిిిిణణణాాాాాాాాాాాాాాాాాాాాాాాాుుుుుుుిిిి',)\n",
      "-------------------------------------------\n",
      "Iteration 2000 : 1.3863052129745483\n",
      "English: even so in this film.\n",
      "Telugu Translation: ఇప్పుడు ఈ సినిమాలో కూడా అంతే.\n",
      "Telugu Prediction: నంంిిిిిిననననణణణణణంంంంంంిిిిిిిిిిింంిిిిిింంంిిిిిిిిిిిాాంంంంంణణణంంంంంంంంంణణణణణణణణణణణణణణణణ్్ణణణణణణుిిిిిిి్్ణణణణంంణణణణణణణణణణణణణణణణణంంంంణణణుుుంంణణణణణణణణణణిిిణణణణణణణణణణణణణాాాాణణణణణాిిిాాాాాుణణణుుుుుిి\n",
      "Evaluation translation (should we go to the mall?) : ('ంంయయాానననాానననణణంంంంంంంంంిిిిిిిింంంంంిిిింంంంంయయిిిిిిింంంంంంంంంంంంంంంంంంంంంంింంంంంంుంంంంం్్్్ంంణణాాాాిిి్్్ాాాిింంాాణణణాాాాాాాా్్్ంంంంంంంంుుుంంంంణణణంంిిిిిిిిిిణణణాాాాాాాాాాాాాాాాాాాాాాాాుుుుుుుిిిి',)\n",
      "-------------------------------------------\n",
      "Iteration 2500 : 1.4692431688308716\n",
      "English: prime minister narendra modi addresses a karnataka election campaign rally in bengaluru.\n",
      "Telugu Translation: కర్ణాటకలో హుబ్బళి బహిరంగ సభతో ప్రధాని నరేంద్ర మోడీ ఎన్నికల ప్రచారానికి శ్రీకారం చుడుతున్నారు.\n",
      "Telugu Prediction: నయణణణినననననననణణణణణణణణణంిిిిిిిిిిిిిిిిిిిింంననననయననిిియయాాాంుాాాాానంంంంంంంంణణణణణణణణణణణణణణ్్్్్ణణణణణిిిిిిి్్్ణణణణణణణణణణణణణణణణణణణణణణణణిణణణణణుుుుిణణణణణణణణణణిిిణణణణణణణణణణణణణాాాాణణణణణాిిిాాాాాుణణణుుుుిిి\n",
      "Evaluation translation (should we go to the mall?) : ('ంంయయాానననాానననణణంంంంంంంంంిిిిిిిింంంంంిిిింంంంంయయిిిిిిింంంంంంంంంంంంంంంంంంంంంంింంంంంంుంంంంం్్్్ంంణణాాాాిిి్్్ాాాిింంాాణణణాాాాాాాా్్్ంంంంంంంంుుుంంంంణణణంంిిిిిిిిిిణణణాాాాాాాాాాాాాాాాాాాాాాాాుుుుుుుిిిి',)\n",
      "-------------------------------------------\n",
      "Iteration 3000 : 2.152282476425171\n",
      "English: so, one can use less material, potentially use less material to achieve the same goal as you would achieve with materials at larger sizes.\n",
      "Telugu Translation: కాబట్టి, తక్కువ పదార్ధాలను ఉపయోగించవచ్చు, పెద్ద పరిమాణంలో వస్తువులతో మీరు సాధించిన అదే లక్ష్యం సాధించడానికి తక్కువ పదార్ధాన్ని ఉపయోగించుకోవచ్చు.\n",
      "Telugu Prediction: ంయయణిిిుుణానసణణణణణణణణణంంిిిిిిిిిిింంంిిిింంంంయయయిిిుిియయాాాుుుాాాాంంంంంంంంంణణణణణణణణణణణణణణ్్్్్్ణణణుాా్ి్్్్్ాాణణణాాాణణణణణాాాాణణణ్్్ణిింయణ్ణుుుుంణణణణణణణణణిిిిణణణణణణణణణణణణణాాాాాణణణాాిిిాాాాాుణణణుుుుిిి\n",
      "Evaluation translation (should we go to the mall?) : ('ంంయయాననననాానననణణంంంంంంంంంిిిిిిిింంంంంిిిింంంంంయయిిిిిిింంంంంంంంంంంంంంంంంంంంంంింంంంంంుంంంంం్్్్ంంణణాాాాిిి్్్ాాాిింంాాణణణాాాాాాాా్్్ంంంంంంంంుుుంంంంణణణంంిిిిిిిిిిణణణాాాాాాాాాాాాాాాాాాాాాాాాుుుుుుుిిిి',)\n",
      "-------------------------------------------\n",
      "Iteration 3500 : 1.527695655822754\n",
      "English: the film was written and directed by harish shankar.\n",
      "Telugu Translation: ఈ సినిమాకి హరీష్ శంకర్ దర్శకత్వం వహిస్తున్నాడు.\n",
      "Telugu Prediction: నయయిిిినిననననిణణణణణణణణిిిిిిిిిిిిిిిిిిిిిిియయయిిిిిిిిిాాంంంంుణణణంంంంంంంంంణణణణణణణణణణణణణణణ్్్్ణణణణుుిిిిిి్్్ణణణణణణణణణణణణణణణణణణణణణణణణింంణణణుుుుంణణణణణణణణణిిిిణణణణణణణణణణణణణాాాాణణణణణాిిిాాాాాుణణణుుుుిిి\n",
      "Evaluation translation (should we go to the mall?) : ('ంంయయాననననాానననణణంంంంంంంంంిిిిిిిింంంంంిిిింంంంంయయిిిిిిింంంంంంంంంంంంంంంంంంంంంంింంంంంంుంంంంం్్్్ంంణణాాాాిిి్్్ాాాిింంాాణణణాాాాాాాా్్్ంంంంంంంంుుుంంంంణణణంంిిిిిిిిిిణణణాాాాాాాాాాాాాాాాాాాాాాాాుుుుుుుిిిి',)\n",
      "-------------------------------------------\n",
      "Iteration 4000 : 1.6905044317245483\n",
      "English: but they didn't.\n",
      "Telugu Translation: కానీ, వారి వల్ల కాలేదు.\n",
      "Telugu Prediction: నంంంననననననననననణణణణంంంంంంంిిిిిిిిిింంిిిిిింంంిిిిిిిిిిిాాంంంంంణణణంంంంంంంంంణణణణణణణణణణణణణణణణ్్ణణణణణణుిిిిిిి్్ణణణణణంణణణణణణణణణణణణణణణణణణంంంణణణుుుంంణణణణణణణణణణిిిణణణణణణణణణణణణణాాాాణణణణణాాిాాాాాాుణణణుుుుుిి\n",
      "Evaluation translation (should we go to the mall?) : ('ంంయయాననననాానననణణంంంంంంంంంిిిిిిిింంంంంిిిింంంంంయయిిిిిిింంంంంంంంంంంంంంంంంంంంంంింంంంంంుంంంంం్్్్ంంణణాాాాిిి్్్ాాాిింంాాణణణాాాాాాాా్్్ంంంంంంంంుుుంంంంణణణంంిిిిిిిిిిణణణాాాాాాాాాాాాాాాాాాాాాాాాుుుుుుుిిిి',)\n",
      "-------------------------------------------\n",
      "Iteration 4500 : 1.5882376432418823\n",
      "English: the reports says that the best possible medical treatment was given to jayalalithaa.\n",
      "Telugu Translation: జయలలితకు అత్యుత్తమ వైద్యం అందించామని తెలిపారు.\n",
      "Telugu Prediction: నయయిిిినననాననిణణణణణణణణిిిిిిిిిిిిిిిిిిిిిినననిిిిిిిిిిాాాంంుుణణణంంంంంంంంణణణణణణణణణణణణణణణణణ్్్ణణణణణు్్ిిిి్్్ణణణణణణణణణణణణణణణణణణణణణణణణిణణణణణుుుుంణణణణణణణణణణిిిణణణణణణణణణణణణణాాాాణణణణణాాిాాాాాాుణణణుుుుిిి\n",
      "Evaluation translation (should we go to the mall?) : ('ంంయయాననననాానననణణంంంంంంంంంిిిిిిిింంంంంిిిింంంంంయయిిిిిిింంంంంంంంంంంంంంంంంంంంంంింంంంంంుంంంంం్్్్ంంణణాాాాిిి్్్ాాాిింంాాణణణాాాాాాాా్్్ంంంంంంంంుుుంంంంణణణంంిిిిిిిిిిణణణాాాాాాాాాాాాాాాాాాాాాాాాుుుుుుుిిిి',)\n",
      "-------------------------------------------\n"
     ]
    }
   ],
   "source": [
    "total_loss = 0\n",
    "epochs = 6\n",
    "\n",
    "with tf.device('/GPU:0'):\n",
    "\n",
    "  for epoch in range(epochs):\n",
    "      print(\"Epoch\", epoch)\n",
    "      for batch_num, batch in enumerate(td):\n",
    "          eng_bat, tel_bat = batch\n",
    "          eng_bat = [x.lower() for x in eng_bat]\n",
    "\n",
    "          with tf.GradientTape() as tape:\n",
    "              encoder_self_attention_mask, decoder_self_attention_mask, decoder_cross_attention_mask = create_mask(eng_bat, tel_bat)\n",
    "\n",
    "              tel_predictions = transformer.call(eng_bat, tel_bat,\n",
    "                                          encoder_self_attention_mask,\n",
    "                                          decoder_self_attention_mask,\n",
    "                                          decoder_cross_attention_mask,\n",
    "                                          enc_start_token = False,\n",
    "                                          enc_end_token = False,\n",
    "                                          dec_start_token = True,\n",
    "                                          dec_end_token = True)\n",
    "              labels = transformer.decoder.sentence_embedding.batch_tokenize(tel_bat, start_token=True, end_token=True)\n",
    "              loss = calculate_loss(tel_predictions, labels, tel_to_ix[PADDING_TOKEN])\n",
    "          gradients = tape.gradient(loss, transformer.trainable_variables)\n",
    "          optimizer.apply_gradients(zip(gradients, transformer.trainable_variables))\n",
    "\n",
    "          if batch_num % 500 == 0:\n",
    "              print(f\"Iteration {batch_num} : {loss.numpy()}\")\n",
    "              print(f\"English: {eng_bat[0]}\")\n",
    "              print(f\"Telugu Translation: {tel_bat[0]}\")\n",
    "              tel_sentence_predicted = tf.argmax(tel_predictions[0], axis=1)\n",
    "              predicted_sentence = \"\"\n",
    "              for idx in tel_sentence_predicted:\n",
    "                if idx == tel_to_ix[END_TOKEN]:\n",
    "                  break\n",
    "                predicted_sentence += ix_to_tel[idx.numpy()]\n",
    "              print(f\"Telugu Prediction: {predicted_sentence}\")\n",
    "\n",
    "              tel_sen = (\"\",)\n",
    "              eng_sen = [\"should we go to mall?\",]\n",
    "              for word_counter in range(max_sequence_length):\n",
    "                  encoder_self_attention_mask, decoder_self_attention_mask, decoder_cross_attention_mask = create_mask(eng_sen, tel_sen)\n",
    "                  predictions = transformer.call(eng_sen, tel_sen,\n",
    "                                          encoder_self_attention_mask,\n",
    "                                          decoder_self_attention_mask,\n",
    "                                          decoder_cross_attention_mask,\n",
    "                                          enc_start_token = False,\n",
    "                                          enc_end_token = False,\n",
    "                                          dec_start_token = True,\n",
    "                                          dec_end_token = False)\n",
    "                  next_token_prob_distribution = predictions[0][word_counter]\n",
    "                  next_token_index = tf.argmax(next_token_prob_distribution).numpy()\n",
    "                  next_token = ix_to_tel[next_token_index]\n",
    "                  tel_sen = (tel_sen[0] +  next_token,)\n",
    "                  if next_token == END_TOKEN: \n",
    "                      break\n",
    "              print(f\"Evaluation translation (should we go to the mall?) : {tel_sen}\")\n",
    "              print(\"-------------------------------------------\")"
   ]
  },
  {
   "cell_type": "code",
   "execution_count": null,
   "metadata": {},
   "outputs": [],
   "source": []
  },
  {
   "cell_type": "code",
   "execution_count": null,
   "metadata": {
    "id": "Or8D448g3o13"
   },
   "outputs": [],
   "source": []
  }
 ],
 "metadata": {
  "colab": {
   "provenance": []
  },
  "kernelspec": {
   "display_name": "virEnv",
   "language": "python",
   "name": "virenv"
  },
  "language_info": {
   "codemirror_mode": {
    "name": "ipython",
    "version": 3
   },
   "file_extension": ".py",
   "mimetype": "text/x-python",
   "name": "python",
   "nbconvert_exporter": "python",
   "pygments_lexer": "ipython3",
   "version": "3.10.0"
  }
 },
 "nbformat": 4,
 "nbformat_minor": 4
}

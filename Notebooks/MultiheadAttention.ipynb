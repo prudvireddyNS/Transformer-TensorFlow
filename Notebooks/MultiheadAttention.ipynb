{
 "cells": [
  {
   "cell_type": "markdown",
   "id": "b331d83b-f34b-4f68-bc8f-f6d55ef36e9c",
   "metadata": {},
   "source": [
    "## Multi Head Attention"
   ]
  },
  {
   "cell_type": "code",
   "execution_count": 82,
   "id": "10b8b862-e997-462b-a731-6e2412730d1f",
   "metadata": {},
   "outputs": [],
   "source": [
    "import numpy as np\n",
    "import tensorflow as tf"
   ]
  },
  {
   "cell_type": "code",
   "execution_count": 83,
   "id": "b54ba5e6-aaec-45c6-a6ee-cf18f10ea060",
   "metadata": {},
   "outputs": [],
   "source": [
    "sequence_length = 4\n",
    "batch_size = 1\n",
    "input_dim = 512\n",
    "d_model = 512\n",
    "x = np.random.randn(batch_size, sequence_length, input_dim)"
   ]
  },
  {
   "cell_type": "code",
   "execution_count": 84,
   "id": "e72de50b-d2c9-4d01-aa61-e6a0f502dcd4",
   "metadata": {},
   "outputs": [
    {
     "data": {
      "text/plain": [
       "(1, 4, 512)"
      ]
     },
     "execution_count": 84,
     "metadata": {},
     "output_type": "execute_result"
    }
   ],
   "source": [
    "x.shape"
   ]
  },
  {
   "cell_type": "code",
   "execution_count": 85,
   "id": "c616ec8c-d469-4f6d-a3c9-903f3f077f23",
   "metadata": {},
   "outputs": [],
   "source": [
    "qkv_layer = tf.keras.layers.Dense(3 * d_model)"
   ]
  },
  {
   "cell_type": "code",
   "execution_count": 86,
   "id": "5ac3e6f1-0275-43d7-96f8-4dcbfec2941a",
   "metadata": {},
   "outputs": [
    {
     "name": "stdout",
     "output_type": "stream",
     "text": [
      "WARNING:tensorflow:Layer dense_1 is casting an input tensor from dtype float64 to the layer's dtype of float32, which is new behavior in TensorFlow 2.  The layer has dtype float32 because its dtype defaults to floatx.\n",
      "\n",
      "If you intended to run this layer in float32, you can safely ignore this warning. If in doubt, this warning is likely only an issue if you are porting a TensorFlow 1.X model to TensorFlow 2.\n",
      "\n",
      "To change all layers to have dtype float64 by default, call `tf.keras.backend.set_floatx('float64')`. To change just this layer, pass dtype='float64' to the layer constructor. If you are the author of this layer, you can disable autocasting by passing autocast=False to the base Layer constructor.\n",
      "\n"
     ]
    }
   ],
   "source": [
    "qkv = qkv_layer(x)"
   ]
  },
  {
   "cell_type": "code",
   "execution_count": 87,
   "id": "8bd7da3d-6c87-46c1-af1c-3375763ebc46",
   "metadata": {},
   "outputs": [
    {
     "data": {
      "text/plain": [
       "TensorShape([1, 4, 1536])"
      ]
     },
     "execution_count": 87,
     "metadata": {},
     "output_type": "execute_result"
    }
   ],
   "source": [
    "qkv.shape"
   ]
  },
  {
   "cell_type": "code",
   "execution_count": 88,
   "id": "b611e543-7b76-4889-b0c1-a7f71df731e0",
   "metadata": {},
   "outputs": [],
   "source": [
    "num_heads = 8\n",
    "head_dim = d_model // num_heads\n",
    "qkv = tf.reshape(qkv, [batch_size, sequence_length, num_heads, 3 * head_dim])"
   ]
  },
  {
   "cell_type": "code",
   "execution_count": 89,
   "id": "02009738-db2d-4bcc-8f6c-e3fd1bcd8268",
   "metadata": {},
   "outputs": [
    {
     "data": {
      "text/plain": [
       "TensorShape([1, 4, 8, 192])"
      ]
     },
     "execution_count": 89,
     "metadata": {},
     "output_type": "execute_result"
    }
   ],
   "source": [
    "qkv.shape"
   ]
  },
  {
   "cell_type": "code",
   "execution_count": 90,
   "id": "d5954834-aed8-4e83-bc01-47044c947ffd",
   "metadata": {},
   "outputs": [
    {
     "data": {
      "text/plain": [
       "TensorShape([1, 8, 4, 192])"
      ]
     },
     "execution_count": 90,
     "metadata": {},
     "output_type": "execute_result"
    }
   ],
   "source": [
    "qkv = tf.transpose(qkv, perm=[0, 2, 1, 3])\n",
    "qkv.shape"
   ]
  },
  {
   "cell_type": "code",
   "execution_count": 91,
   "id": "5ced4805-fe92-4253-933d-77eb754cfd00",
   "metadata": {},
   "outputs": [
    {
     "data": {
      "text/plain": [
       "(TensorShape([1, 8, 4, 64]),\n",
       " TensorShape([1, 8, 4, 64]),\n",
       " TensorShape([1, 8, 4, 64]))"
      ]
     },
     "execution_count": 91,
     "metadata": {},
     "output_type": "execute_result"
    }
   ],
   "source": [
    "q, k, v = tf.split(qkv, num_or_size_splits=3, axis = -1)\n",
    "q.shape, k.shape, v.shape"
   ]
  },
  {
   "cell_type": "markdown",
   "id": "deedabb9-6e33-4db4-a1a5-ed87ee19f6d5",
   "metadata": {},
   "source": [
    "## Self Attention for multiple heads"
   ]
  },
  {
   "cell_type": "markdown",
   "id": "8f0047a7-4db2-4586-9d03-495c0b19f545",
   "metadata": {},
   "source": [
    "For a single head:\n",
    "$$\n",
    "\\text{self attention} = softmax\\bigg(\\frac{Q.K^T}{\\sqrt{d_k}}+M\\bigg)\n",
    "$$\n",
    "\n",
    "$$\n",
    "\\text{new V} = \\text{self attention}.V\n",
    "$$ "
   ]
  },
  {
   "cell_type": "code",
   "execution_count": 92,
   "id": "09c93505-638d-4ac3-8a74-968ea7d613a7",
   "metadata": {},
   "outputs": [
    {
     "data": {
      "text/plain": [
       "TensorShape([1, 8, 4, 4])"
      ]
     },
     "execution_count": 92,
     "metadata": {},
     "output_type": "execute_result"
    }
   ],
   "source": [
    "d_k = k.shape[-1]\n",
    "scaled = tf.matmul(q, tf.transpose(k, perm=[0, 1, 3, 2])) / np.sqrt(d_k)\n",
    "scaled.shape"
   ]
  },
  {
   "cell_type": "code",
   "execution_count": 93,
   "id": "94b9db77-0bde-4290-b963-16302ff0fb48",
   "metadata": {},
   "outputs": [
    {
     "data": {
      "text/plain": [
       "<tf.Tensor: shape=(4, 4), dtype=float32, numpy=\n",
       "array([[  0., -inf, -inf, -inf],\n",
       "       [  0.,   0., -inf, -inf],\n",
       "       [  0.,   0.,   0., -inf],\n",
       "       [  0.,   0.,   0.,   0.]], dtype=float32)>"
      ]
     },
     "execution_count": 93,
     "metadata": {},
     "output_type": "execute_result"
    }
   ],
   "source": [
    "mask = tf.linalg.band_part((tf.ones(scaled.shape)), -1,0,)\n",
    "mask = tf.where(mask == 1, 0, tf.constant(float('-inf')))\n",
    "mask[0][1]"
   ]
  },
  {
   "cell_type": "code",
   "execution_count": 94,
   "id": "858b45d0-0bfa-4b0a-9745-f74733580be9",
   "metadata": {},
   "outputs": [
    {
     "data": {
      "text/plain": [
       "<tf.Tensor: shape=(4, 4), dtype=float32, numpy=\n",
       "array([[-0.0669643 ,        -inf,        -inf,        -inf],\n",
       "       [ 0.8429377 , -0.22580042,        -inf,        -inf],\n",
       "       [ 0.6326221 ,  0.31469107, -0.54598874,        -inf],\n",
       "       [ 0.3652924 , -0.2694186 ,  0.5640688 , -0.15838446]],\n",
       "      dtype=float32)>"
      ]
     },
     "execution_count": 94,
     "metadata": {},
     "output_type": "execute_result"
    }
   ],
   "source": [
    "(scaled + mask)[0][0]"
   ]
  },
  {
   "cell_type": "code",
   "execution_count": 95,
   "id": "9cd69d84-7ab8-4d26-a75d-9f6f78cb4c99",
   "metadata": {},
   "outputs": [],
   "source": [
    "scaled += mask"
   ]
  },
  {
   "cell_type": "code",
   "execution_count": 96,
   "id": "a3221634-527b-492e-9817-63d34e090081",
   "metadata": {},
   "outputs": [
    {
     "data": {
      "text/plain": [
       "4"
      ]
     },
     "execution_count": 96,
     "metadata": {},
     "output_type": "execute_result"
    }
   ],
   "source": [
    "scaled.ndim"
   ]
  },
  {
   "cell_type": "code",
   "execution_count": 97,
   "id": "10562bae-4425-4e59-bf37-921a8e52939f",
   "metadata": {},
   "outputs": [],
   "source": [
    "attention = tf.keras.activations.softmax(scaled, axis=-1)"
   ]
  },
  {
   "cell_type": "code",
   "execution_count": 98,
   "id": "8f5c50d6-c3c7-4fd0-a255-f2515b13deb3",
   "metadata": {},
   "outputs": [
    {
     "data": {
      "text/plain": [
       "TensorShape([1, 8, 4, 64])"
      ]
     },
     "execution_count": 98,
     "metadata": {},
     "output_type": "execute_result"
    }
   ],
   "source": [
    "values = tf.matmul(attention,v)\n",
    "values.shape"
   ]
  },
  {
   "cell_type": "markdown",
   "id": "5dc7432e-0b7e-4766-a0c5-63438677b67b",
   "metadata": {},
   "source": [
    "## Function"
   ]
  },
  {
   "cell_type": "code",
   "execution_count": 99,
   "id": "8e80d813-5c29-4c2d-b61a-a4ba48b0ce3c",
   "metadata": {},
   "outputs": [],
   "source": [
    "def scaled_dot_product(q, k, v, mask = None):\n",
    "    d_k = k.shape[-1]\n",
    "    scaled = tf.matmul(q, tf.transpose(v, perm=[0, 1, 3, 2])) / np.sqrt(d_k)\n",
    "    if mask is not None:\n",
    "        scaled += mask\n",
    "    attention = tf.keras.activations.softmax(scaled, axis = -1)\n",
    "    values = tf.matmul(attention, v)\n",
    "    return values, attention"
   ]
  },
  {
   "cell_type": "code",
   "execution_count": 100,
   "id": "1cbfa41a-8040-4bd0-8d59-126651f703c6",
   "metadata": {},
   "outputs": [],
   "source": [
    "values, attention = scaled_dot_product(q, k, v)"
   ]
  },
  {
   "cell_type": "code",
   "execution_count": 101,
   "id": "f23b848b-6d76-4741-bd2e-94be55a31830",
   "metadata": {},
   "outputs": [
    {
     "data": {
      "text/plain": [
       "(TensorShape([1, 8, 4, 64]), TensorShape([1, 8, 4, 4]))"
      ]
     },
     "execution_count": 101,
     "metadata": {},
     "output_type": "execute_result"
    }
   ],
   "source": [
    "values.shape, attention.shape"
   ]
  },
  {
   "cell_type": "code",
   "execution_count": 102,
   "id": "7ec14aed-0212-413d-922e-5a696a54217f",
   "metadata": {},
   "outputs": [
    {
     "data": {
      "text/plain": [
       "TensorShape([1, 4, 512])"
      ]
     },
     "execution_count": 102,
     "metadata": {},
     "output_type": "execute_result"
    }
   ],
   "source": [
    "values = tf.reshape(values, (batch_size, sequence_length, num_heads * head_dim))\n",
    "values.shape"
   ]
  },
  {
   "cell_type": "code",
   "execution_count": 104,
   "id": "fbfd0620-0a5f-4956-a171-8cfea528e1fd",
   "metadata": {},
   "outputs": [],
   "source": [
    "linear_layer = tf.keras.layers.Dense(d_model)"
   ]
  },
  {
   "cell_type": "code",
   "execution_count": 105,
   "id": "b6a85bca-bcc4-4442-b53e-c7659d8024e5",
   "metadata": {},
   "outputs": [],
   "source": [
    "out = linear_layer(values)"
   ]
  },
  {
   "cell_type": "code",
   "execution_count": 106,
   "id": "9271ba20-5505-4eed-aeaa-1a6c9fa08fba",
   "metadata": {},
   "outputs": [
    {
     "data": {
      "text/plain": [
       "TensorShape([1, 4, 512])"
      ]
     },
     "execution_count": 106,
     "metadata": {},
     "output_type": "execute_result"
    }
   ],
   "source": [
    "out.shape"
   ]
  },
  {
   "cell_type": "code",
   "execution_count": 107,
   "id": "b3a70e68-cb2b-4030-ad40-f6e44d34ec1e",
   "metadata": {},
   "outputs": [
    {
     "data": {
      "text/plain": [
       "<tf.Tensor: shape=(1, 4, 512), dtype=float32, numpy=\n",
       "array([[[-0.53420955,  0.10022534,  0.07923827, ...,  0.3830155 ,\n",
       "         -0.37225428,  0.11568592],\n",
       "        [ 0.20668475, -0.10040505,  0.30879456, ..., -0.03135356,\n",
       "         -0.3400464 ,  0.28938416],\n",
       "        [ 0.5138191 , -0.4163006 , -0.19618417, ..., -0.1770674 ,\n",
       "          0.08143231, -0.37141818],\n",
       "        [ 1.1689396 ,  0.40013433,  0.08186674, ..., -0.37103337,\n",
       "          0.87498176, -0.30928454]]], dtype=float32)>"
      ]
     },
     "execution_count": 107,
     "metadata": {},
     "output_type": "execute_result"
    }
   ],
   "source": [
    "out"
   ]
  },
  {
   "cell_type": "markdown",
   "id": "fa60d408-2e57-411a-bf7e-6b572510e010",
   "metadata": {},
   "source": [
    "## Class"
   ]
  },
  {
   "cell_type": "code",
   "execution_count": 118,
   "id": "1016864f-e860-4bed-9958-1f72f8f8abe5",
   "metadata": {},
   "outputs": [],
   "source": [
    "class MultiheadAttention():\n",
    "    def __init__(self, input_dim, d_model, num_heads):\n",
    "        super().__init__()\n",
    "        self.input_dim = input_dim\n",
    "        self.d_model = d_model\n",
    "        self.num_heads = num_heads\n",
    "        self.head_dim = d_model // num_heads\n",
    "        self.qkv_layer = tf.keras.layers.Dense(3 * d_model)\n",
    "        self.linear_layer = tf.keras.layers.Dense(d_model)\n",
    "\n",
    "    def forward(self, x, mask = None):\n",
    "        batch_size, sequence_length, input_dim = x.shape\n",
    "        print(f\"x.shape: {x.shape}\")\n",
    "        qkv = self.qkv_layer(x)\n",
    "        print(f\"qkv.shape: {qkv.shape}\")\n",
    "        qkv = tf.reshape(qkv, [batch_size, sequence_length, self.num_heads, self.head_dim * 3])\n",
    "        print(f\"qkv.shape: {qkv.shape}\")\n",
    "        qkv = tf.transpose(qkv, perm=[0, 2, 1, 3])\n",
    "        print(f\"qkv.shape: {qkv.shape}\")\n",
    "        q, k, v = tf.split(qkv, num_or_size_splits=3, axis = -1)\n",
    "        print(f\"q shape: {q.shape}, k shape: {k.shape}, v shape: {v.shape}\")\n",
    "        values, attention = scaled_dot_product(q, k, v, mask)\n",
    "        print(f\"values.shape: {values.shape}, attention.shape: {attention.shape}\")\n",
    "        values = tf.reshape(values, [batch_size, sequence_length, self.head_dim * self.num_heads])\n",
    "        print(f\"values.shape: {values.shape}\")\n",
    "        out = self.linear_layer(values)\n",
    "        print(f\"out.shape: {out.shape}\")\n",
    "        return out"
   ]
  },
  {
   "cell_type": "code",
   "execution_count": 119,
   "id": "0857513c-ecbe-488e-ac0f-35bcbafca90d",
   "metadata": {},
   "outputs": [
    {
     "name": "stdout",
     "output_type": "stream",
     "text": [
      "x.shape: (10, 5, 1024)\n",
      "qkv.shape: (10, 5, 1536)\n",
      "qkv.shape: (10, 5, 8, 192)\n",
      "qkv.shape: (10, 8, 5, 192)\n",
      "q shape: (10, 8, 5, 64), k shape: (10, 8, 5, 64), v shape: (10, 8, 5, 64)\n",
      "values.shape: (10, 8, 5, 64), attention.shape: (10, 8, 5, 5)\n",
      "values.shape: (10, 5, 512)\n",
      "out.shape: (10, 5, 512)\n"
     ]
    }
   ],
   "source": [
    "input_dim = 1024\n",
    "d_model = 512\n",
    "num_heads = 8\n",
    "\n",
    "batch_size = 10\n",
    "sequence_length = 5\n",
    "x = tf.random.normal((batch_size, sequence_length, input_dim))\n",
    "\n",
    "model = MultiheadAttention(input_dim, d_model, num_heads)\n",
    "out = model.forward(x)"
   ]
  },
  {
   "cell_type": "code",
   "execution_count": null,
   "id": "56e8ce9f-9fad-45dc-828b-803d1acb8fc6",
   "metadata": {},
   "outputs": [],
   "source": []
  },
  {
   "cell_type": "code",
   "execution_count": null,
   "id": "5928eefb-cd93-4dab-86b7-a92ce9c320b2",
   "metadata": {},
   "outputs": [],
   "source": []
  }
 ],
 "metadata": {
  "kernelspec": {
   "display_name": "Python 3 (ipykernel)",
   "language": "python",
   "name": "python3"
  },
  "language_info": {
   "codemirror_mode": {
    "name": "ipython",
    "version": 3
   },
   "file_extension": ".py",
   "mimetype": "text/x-python",
   "name": "python",
   "nbconvert_exporter": "python",
   "pygments_lexer": "ipython3",
   "version": "3.8.10"
  }
 },
 "nbformat": 4,
 "nbformat_minor": 5
}

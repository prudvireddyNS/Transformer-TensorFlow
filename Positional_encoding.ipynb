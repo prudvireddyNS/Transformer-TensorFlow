{
 "cells": [
  {
   "cell_type": "code",
   "execution_count": 1,
   "id": "4fac5801-669b-4492-b7cd-37aa67ddce79",
   "metadata": {},
   "outputs": [],
   "source": [
    "import numpy as np\n",
    "import tensorflow as tf"
   ]
  },
  {
   "cell_type": "code",
   "execution_count": 2,
   "id": "30446ebf-8328-4b3c-aa00-f514af1ecd31",
   "metadata": {},
   "outputs": [],
   "source": [
    "sequence_length = 10\n",
    "d_model = 6"
   ]
  },
  {
   "cell_type": "markdown",
   "id": "591fd68d-1661-43bf-826e-4389a3e47c4b",
   "metadata": {},
   "source": [
    "$$\n",
    "PE(\\text{position}, 2i) = \\sin\\bigg( \\frac{ \\text{position} }{10000^\\frac{2i}{d_{model}}} \\bigg)\n",
    "$$\n",
    "\n",
    "$$\n",
    "PE(\\text{position}, 2i+1) = \\cos\\bigg( \\frac{ \\text{position} }{10000^\\frac{2i}{d_{model}}} \\bigg)\n",
    "$$\n",
    "\n",
    "We can rewrite these as\n",
    "\n",
    "$$\n",
    "PE(\\text{position}, i) = \\sin\\bigg( \\frac{ \\text{position} }{10000^\\frac{i}{d_{model}}} \\bigg) \\text{ when i is even}\n",
    "$$\n",
    "\n",
    "$$\n",
    "PE(\\text{position}, i) = \\cos\\bigg( \\frac{ \\text{position} }{10000^\\frac{i-1}{d_{model}}} \\bigg) \\text{ when i is odd}\n",
    "$$"
   ]
  },
  {
   "cell_type": "code",
   "execution_count": 5,
   "id": "446367ec-e74d-4fbe-b007-2e3a141f95ce",
   "metadata": {},
   "outputs": [
    {
     "data": {
      "text/plain": [
       "array([0., 2., 4.], dtype=float32)"
      ]
     },
     "execution_count": 5,
     "metadata": {},
     "output_type": "execute_result"
    }
   ],
   "source": [
    "even_i = np.arange(0, d_model, 2, dtype=np.float32)\n",
    "even_i"
   ]
  },
  {
   "cell_type": "code",
   "execution_count": 6,
   "id": "84f9c689-0371-4eae-8ecc-c97a93b69c4e",
   "metadata": {},
   "outputs": [
    {
     "data": {
      "text/plain": [
       "array([  1.     ,  21.54435, 464.15897], dtype=float32)"
      ]
     },
     "execution_count": 6,
     "metadata": {},
     "output_type": "execute_result"
    }
   ],
   "source": [
    "even_denominator = np.power(10000, even_i/d_model)\n",
    "even_denominator"
   ]
  },
  {
   "cell_type": "code",
   "execution_count": 7,
   "id": "3c160596-13a6-4d40-b8cf-9d17f2d25c4e",
   "metadata": {},
   "outputs": [
    {
     "data": {
      "text/plain": [
       "array([1., 3., 5.], dtype=float32)"
      ]
     },
     "execution_count": 7,
     "metadata": {},
     "output_type": "execute_result"
    }
   ],
   "source": [
    "odd_i = np.arange(1, d_model, 2, dtype = np.float32)\n",
    "odd_i"
   ]
  },
  {
   "cell_type": "code",
   "execution_count": 9,
   "id": "c3ae78c6-a3a7-4e57-9979-7cfba5b6cdaf",
   "metadata": {},
   "outputs": [
    {
     "data": {
      "text/plain": [
       "array([  1.     ,  21.54435, 464.15897], dtype=float32)"
      ]
     },
     "execution_count": 9,
     "metadata": {},
     "output_type": "execute_result"
    }
   ],
   "source": [
    "odd_denominator = np.power(10000, (odd_i-1)/d_model)\n",
    "odd_denominator"
   ]
  },
  {
   "cell_type": "markdown",
   "id": "206c2922-c4a6-4ce6-9771-1ed80e2a49ce",
   "metadata": {},
   "source": [
    "`even_denominator` and `odd_denominator` are the same! So we can just do one of these actions and call the resulting variable `denominator`"
   ]
  },
  {
   "cell_type": "code",
   "execution_count": 10,
   "id": "68a7a53c-4dc1-4283-b30c-5b6eb96d2aa1",
   "metadata": {},
   "outputs": [],
   "source": [
    "denominator = even_denominator"
   ]
  },
  {
   "cell_type": "code",
   "execution_count": 13,
   "id": "05a27df4-9352-4a81-9588-e4055f17ecbd",
   "metadata": {},
   "outputs": [
    {
     "data": {
      "text/plain": [
       "array([[0.],\n",
       "       [1.],\n",
       "       [2.],\n",
       "       [3.],\n",
       "       [4.],\n",
       "       [5.],\n",
       "       [6.],\n",
       "       [7.],\n",
       "       [8.],\n",
       "       [9.]], dtype=float32)"
      ]
     },
     "execution_count": 13,
     "metadata": {},
     "output_type": "execute_result"
    }
   ],
   "source": [
    "position = np.arange(sequence_length, dtype=np.float32).reshape(sequence_length,1)\n",
    "position"
   ]
  },
  {
   "cell_type": "code",
   "execution_count": 15,
   "id": "b62f49d3-0cdd-4d73-b84e-7ddbfcaf9f97",
   "metadata": {},
   "outputs": [],
   "source": [
    "even_PE = np.sin(position / denominator)\n",
    "odd_PE = np.cos(position / denominator)"
   ]
  },
  {
   "cell_type": "code",
   "execution_count": 16,
   "id": "586d6554-0728-4f37-8257-dcb8d8e9210b",
   "metadata": {},
   "outputs": [
    {
     "data": {
      "text/plain": [
       "array([[ 0.        ,  0.        ,  0.        ],\n",
       "       [ 0.84147096,  0.04639922,  0.00215443],\n",
       "       [ 0.9092974 ,  0.09269849,  0.00430886],\n",
       "       [ 0.14112   ,  0.13879807,  0.00646326],\n",
       "       [-0.7568025 ,  0.18459871,  0.00861763],\n",
       "       [-0.9589243 ,  0.23000169,  0.01077196],\n",
       "       [-0.2794155 ,  0.27490923,  0.01292625],\n",
       "       [ 0.6569866 ,  0.31922463,  0.01508047],\n",
       "       [ 0.98935825,  0.36285236,  0.01723462],\n",
       "       [ 0.4121185 ,  0.4056985 ,  0.01938869]], dtype=float32)"
      ]
     },
     "execution_count": 16,
     "metadata": {},
     "output_type": "execute_result"
    }
   ],
   "source": [
    "even_PE"
   ]
  },
  {
   "cell_type": "code",
   "execution_count": 17,
   "id": "acdeadb2-8111-46fd-b9c8-9b5d3d9da1b8",
   "metadata": {},
   "outputs": [
    {
     "data": {
      "text/plain": [
       "(10, 1)"
      ]
     },
     "execution_count": 17,
     "metadata": {},
     "output_type": "execute_result"
    }
   ],
   "source": [
    "position.shape"
   ]
  },
  {
   "cell_type": "code",
   "execution_count": 18,
   "id": "4588ba01-9e48-4222-89f8-94b438bc9aa0",
   "metadata": {},
   "outputs": [
    {
     "data": {
      "text/plain": [
       "(3,)"
      ]
     },
     "execution_count": 18,
     "metadata": {},
     "output_type": "execute_result"
    }
   ],
   "source": [
    "denominator.shape"
   ]
  },
  {
   "cell_type": "code",
   "execution_count": 19,
   "id": "39cf8a0f-c2bc-47c8-8ef0-64e10bcb7d20",
   "metadata": {},
   "outputs": [
    {
     "data": {
      "text/plain": [
       "(10, 3)"
      ]
     },
     "execution_count": 19,
     "metadata": {},
     "output_type": "execute_result"
    }
   ],
   "source": [
    "even_PE.shape"
   ]
  },
  {
   "cell_type": "code",
   "execution_count": 20,
   "id": "75bf0a6f-34dc-43e2-8d24-a2207f1a5807",
   "metadata": {},
   "outputs": [
    {
     "data": {
      "text/plain": [
       "array([[ 1.        ,  1.        ,  1.        ],\n",
       "       [ 0.5403023 ,  0.998923  ,  0.9999977 ],\n",
       "       [-0.41614684,  0.9956942 ,  0.9999907 ],\n",
       "       [-0.9899925 ,  0.9903207 ,  0.99997914],\n",
       "       [-0.6536436 ,  0.98281395,  0.99996287],\n",
       "       [ 0.2836622 ,  0.97319025,  0.999942  ],\n",
       "       [ 0.96017027,  0.9614702 ,  0.99991643],\n",
       "       [ 0.75390226,  0.9476791 ,  0.9998863 ],\n",
       "       [-0.14550003,  0.9318466 ,  0.99985147],\n",
       "       [-0.91113025,  0.91400695,  0.999812  ]], dtype=float32)"
      ]
     },
     "execution_count": 20,
     "metadata": {},
     "output_type": "execute_result"
    }
   ],
   "source": [
    "odd_PE"
   ]
  },
  {
   "cell_type": "code",
   "execution_count": 30,
   "id": "84920062-dc4a-4d7e-b19e-635fec7c561f",
   "metadata": {},
   "outputs": [],
   "source": [
    "stacked = np.stack([even_PE, odd_PE], axis = 2)"
   ]
  },
  {
   "cell_type": "code",
   "execution_count": 32,
   "id": "6c3e0451-f6b0-4344-a243-3b935653590a",
   "metadata": {},
   "outputs": [
    {
     "data": {
      "text/plain": [
       "(10, 3, 2)"
      ]
     },
     "execution_count": 32,
     "metadata": {},
     "output_type": "execute_result"
    }
   ],
   "source": [
    "stacked.shape"
   ]
  },
  {
   "cell_type": "code",
   "execution_count": 34,
   "id": "6241da2e-9d2a-4404-978e-b4c46697a469",
   "metadata": {},
   "outputs": [
    {
     "data": {
      "text/plain": [
       "(10, 6)"
      ]
     },
     "execution_count": 34,
     "metadata": {},
     "output_type": "execute_result"
    }
   ],
   "source": [
    "PE = np.reshape(stacked, (10,6))\n",
    "PE.shape"
   ]
  },
  {
   "cell_type": "code",
   "execution_count": 36,
   "id": "63c541dd-24c3-47b0-8f8b-fe9d2dd287e9",
   "metadata": {},
   "outputs": [
    {
     "name": "stdout",
     "output_type": "stream",
     "text": [
      "[[ 0.          1.          0.          1.          0.          1.        ]\n",
      " [ 0.84147096  0.5403023   0.04639922  0.998923    0.00215443  0.9999977 ]\n",
      " [ 0.9092974  -0.41614684  0.09269849  0.9956942   0.00430886  0.9999907 ]\n",
      " [ 0.14112    -0.9899925   0.13879807  0.9903207   0.00646326  0.99997914]\n",
      " [-0.7568025  -0.6536436   0.18459871  0.98281395  0.00861763  0.99996287]\n",
      " [-0.9589243   0.2836622   0.23000169  0.97319025  0.01077196  0.999942  ]\n",
      " [-0.2794155   0.96017027  0.27490923  0.9614702   0.01292625  0.99991643]\n",
      " [ 0.6569866   0.75390226  0.31922463  0.9476791   0.01508047  0.9998863 ]\n",
      " [ 0.98935825 -0.14550003  0.36285236  0.9318466   0.01723462  0.99985147]\n",
      " [ 0.4121185  -0.91113025  0.4056985   0.91400695  0.01938869  0.999812  ]]\n"
     ]
    }
   ],
   "source": [
    "print(PE)"
   ]
  },
  {
   "cell_type": "markdown",
   "id": "eb826304-d7b8-4511-b6b0-6d51e67c01ec",
   "metadata": {},
   "source": [
    "## Class"
   ]
  },
  {
   "cell_type": "code",
   "execution_count": 52,
   "id": "39dacc26-314b-4b53-b0fe-87697803f531",
   "metadata": {},
   "outputs": [],
   "source": [
    "class PositionalEncoding():\n",
    "    def __init__(self, sequence_length, d_model):\n",
    "        super().__init__()\n",
    "        self.sequence_length = sequence_length\n",
    "        self.d_model = d_model\n",
    "\n",
    "    def forward(self):\n",
    "        even_i = np.arange(0, d_model, 2, dtype = np.float32)\n",
    "        denominator = np.power(10000, even_i/d_model)\n",
    "        position = np.arange(sequence_length, dtype = np.float32).reshape(sequence_length,1)\n",
    "        even_PE = np.sin(position / denominator)\n",
    "        odd_PE = np.cos(position / denominator)\n",
    "        stacked = np.stack([even_PE, odd_PE], axis = 2)\n",
    "        PE = np.reshape(stacked, (stacked.shape[0], stacked.shape[1] * stacked.shape[2]))\n",
    "        return PE"
   ]
  },
  {
   "cell_type": "code",
   "execution_count": 53,
   "id": "e4c74e38-f880-478f-b50c-8c24b34c0955",
   "metadata": {},
   "outputs": [],
   "source": [
    "PE = PositionalEncoding(sequence_length, d_model)"
   ]
  },
  {
   "cell_type": "code",
   "execution_count": 55,
   "id": "c3d27237-d6f0-4827-a234-e99b261dd089",
   "metadata": {},
   "outputs": [
    {
     "name": "stdout",
     "output_type": "stream",
     "text": [
      "[[ 0.          1.          0.          1.          0.          1.        ]\n",
      " [ 0.84147096  0.5403023   0.04639922  0.998923    0.00215443  0.9999977 ]\n",
      " [ 0.9092974  -0.41614684  0.09269849  0.9956942   0.00430886  0.9999907 ]\n",
      " [ 0.14112    -0.9899925   0.13879807  0.9903207   0.00646326  0.99997914]\n",
      " [-0.7568025  -0.6536436   0.18459871  0.98281395  0.00861763  0.99996287]\n",
      " [-0.9589243   0.2836622   0.23000169  0.97319025  0.01077196  0.999942  ]\n",
      " [-0.2794155   0.96017027  0.27490923  0.9614702   0.01292625  0.99991643]\n",
      " [ 0.6569866   0.75390226  0.31922463  0.9476791   0.01508047  0.9998863 ]\n",
      " [ 0.98935825 -0.14550003  0.36285236  0.9318466   0.01723462  0.99985147]\n",
      " [ 0.4121185  -0.91113025  0.4056985   0.91400695  0.01938869  0.999812  ]]\n"
     ]
    }
   ],
   "source": [
    "print(PE.forward())"
   ]
  },
  {
   "cell_type": "code",
   "execution_count": null,
   "id": "f46ea6f9-74fb-47bd-b4be-0716762f7f26",
   "metadata": {},
   "outputs": [],
   "source": []
  },
  {
   "cell_type": "code",
   "execution_count": null,
   "id": "646e0049-78e1-4fcf-826f-556391831287",
   "metadata": {},
   "outputs": [],
   "source": []
  }
 ],
 "metadata": {
  "kernelspec": {
   "display_name": "Python 3 (ipykernel)",
   "language": "python",
   "name": "python3"
  },
  "language_info": {
   "codemirror_mode": {
    "name": "ipython",
    "version": 3
   },
   "file_extension": ".py",
   "mimetype": "text/x-python",
   "name": "python",
   "nbconvert_exporter": "python",
   "pygments_lexer": "ipython3",
   "version": "3.8.10"
  }
 },
 "nbformat": 4,
 "nbformat_minor": 5
}

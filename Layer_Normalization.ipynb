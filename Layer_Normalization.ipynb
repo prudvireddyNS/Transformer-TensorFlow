{
 "cells": [
  {
   "cell_type": "code",
   "execution_count": 2,
   "id": "73a64d0e-cf45-415f-a3b9-89eabf16eb63",
   "metadata": {},
   "outputs": [],
   "source": [
    "import numpy as np\n",
    "import tensorflow as tf"
   ]
  },
  {
   "cell_type": "code",
   "execution_count": 5,
   "id": "22fe00a6-a50c-45a8-9959-c32f7356feb7",
   "metadata": {},
   "outputs": [
    {
     "data": {
      "text/plain": [
       "TensorShape([2, 1, 3])"
      ]
     },
     "execution_count": 5,
     "metadata": {},
     "output_type": "execute_result"
    }
   ],
   "source": [
    "inputs = tf.constant([[[0.2, 0.1, 0.3], [0.5, 0.1, 0.1]]])\n",
    "B, S, E = inputs.shape\n",
    "inputs = tf.reshape(inputs, [S, B, E])\n",
    "inputs.shape"
   ]
  },
  {
   "cell_type": "code",
   "execution_count": 6,
   "id": "ff9fa97f-d721-4db2-ac67-1035c4e43591",
   "metadata": {},
   "outputs": [
    {
     "data": {
      "text/plain": [
       "<tf.Tensor: shape=(2, 1, 3), dtype=float32, numpy=\n",
       "array([[[0.2, 0.1, 0.3]],\n",
       "\n",
       "       [[0.5, 0.1, 0.1]]], dtype=float32)>"
      ]
     },
     "execution_count": 6,
     "metadata": {},
     "output_type": "execute_result"
    }
   ],
   "source": [
    "inputs"
   ]
  },
  {
   "cell_type": "code",
   "execution_count": 12,
   "id": "ad15241c-f2fc-4552-aa74-18c4f9bd6711",
   "metadata": {},
   "outputs": [],
   "source": [
    "parameter_shape = inputs.shape[-2:]\n",
    "gamma = tf.Variable(tf.ones(parameter_shape))\n",
    "beta = tf.Variable(tf.zeros(parameter_shape))"
   ]
  },
  {
   "cell_type": "code",
   "execution_count": 13,
   "id": "06c4cd97-2a19-48cb-b46a-6bf4bde0599a",
   "metadata": {},
   "outputs": [
    {
     "data": {
      "text/plain": [
       "(TensorShape([1, 3]), TensorShape([1, 3]))"
      ]
     },
     "execution_count": 13,
     "metadata": {},
     "output_type": "execute_result"
    }
   ],
   "source": [
    "gamma.shape, beta.shape"
   ]
  },
  {
   "cell_type": "code",
   "execution_count": 16,
   "id": "2bf738a1-2efd-4e3a-9627-5832b77c9047",
   "metadata": {},
   "outputs": [
    {
     "data": {
      "text/plain": [
       "<tf.Tensor: shape=(2, 1, 1), dtype=float32, numpy=\n",
       "array([[[0.2       ]],\n",
       "\n",
       "       [[0.23333335]]], dtype=float32)>"
      ]
     },
     "execution_count": 16,
     "metadata": {},
     "output_type": "execute_result"
    }
   ],
   "source": [
    "dims = [-1, -2]\n",
    "mean = tf.reduce_mean(inputs, axis=dims, keepdims=True)\n",
    "mean"
   ]
  },
  {
   "cell_type": "code",
   "execution_count": 18,
   "id": "b6c43d09-857a-4e0e-8fad-baa798935495",
   "metadata": {},
   "outputs": [
    {
     "data": {
      "text/plain": [
       "<tf.Tensor: shape=(2, 1, 1), dtype=float32, numpy=\n",
       "array([[[0.08171088]],\n",
       "\n",
       "       [[0.18858834]]], dtype=float32)>"
      ]
     },
     "execution_count": 18,
     "metadata": {},
     "output_type": "execute_result"
    }
   ],
   "source": [
    "var = tf.reduce_mean((inputs - mean)**2, axis = dims, keepdims=True)\n",
    "eps = 1e-5\n",
    "std = tf.sqrt(var + eps)\n",
    "std"
   ]
  },
  {
   "cell_type": "code",
   "execution_count": 20,
   "id": "c0cb2940-051a-4932-bbd8-9f8d6f66218d",
   "metadata": {},
   "outputs": [
    {
     "data": {
      "text/plain": [
       "array([[[ 0.       , -1.2238272,  1.2238274]],\n",
       "\n",
       "       [[ 1.4140146, -0.7070074, -0.7070074]]], dtype=float32)"
      ]
     },
     "execution_count": 20,
     "metadata": {},
     "output_type": "execute_result"
    }
   ],
   "source": [
    "y = (inputs - mean) / std\n",
    "y.numpy()"
   ]
  },
  {
   "cell_type": "code",
   "execution_count": 22,
   "id": "b2382b8c-b1d0-4cfe-a372-09dc631ee777",
   "metadata": {},
   "outputs": [
    {
     "data": {
      "text/plain": [
       "<tf.Tensor: shape=(2, 1, 3), dtype=float32, numpy=\n",
       "array([[[ 0.       , -1.2238272,  1.2238274]],\n",
       "\n",
       "       [[ 1.4140146, -0.7070074, -0.7070074]]], dtype=float32)>"
      ]
     },
     "execution_count": 22,
     "metadata": {},
     "output_type": "execute_result"
    }
   ],
   "source": [
    "out = gamma * y + beta\n",
    "out"
   ]
  },
  {
   "cell_type": "markdown",
   "id": "e0554dad-e85c-45e1-bf52-377184bfdecc",
   "metadata": {},
   "source": [
    "## Class"
   ]
  },
  {
   "cell_type": "code",
   "execution_count": 28,
   "id": "a57fe748-1815-4d9c-b92c-bc2f925030f1",
   "metadata": {},
   "outputs": [],
   "source": [
    "class LayerNormalization():\n",
    "    def __init__(self, parameter_shape, eps = 1e-5):\n",
    "        self.parameter_shape = parameter_shape\n",
    "        self.eps = eps\n",
    "        self.gamma = tf.Variable(tf.ones(parameter_shape))\n",
    "        self.beta = tf.Variable(tf.zeros(parameter_shape))\n",
    "\n",
    "    def forward(self, input):\n",
    "        dims = [-(i+1) for i in range(len(self.parameter_shape))]\n",
    "        mean = tf.reduce_mean(input, axis = dims, keepdims=True)\n",
    "        var = tf.reduce_mean((inputs - mean)**2, axis = dims, keepdims=True)\n",
    "        std = tf.sqrt(var + self.eps)\n",
    "        y = (input - mean) / std\n",
    "        out = self.gamma * y + self.beta\n",
    "        return out"
   ]
  },
  {
   "cell_type": "code",
   "execution_count": 29,
   "id": "f7411d0e-bd8d-4b66-8eed-d3458525636d",
   "metadata": {},
   "outputs": [],
   "source": [
    "LN = LayerNormalization(parameter_shape)"
   ]
  },
  {
   "cell_type": "code",
   "execution_count": 30,
   "id": "4113d81d-1eec-4041-b014-feedbfb837ae",
   "metadata": {},
   "outputs": [
    {
     "data": {
      "text/plain": [
       "<tf.Tensor: shape=(2, 1, 3), dtype=float32, numpy=\n",
       "array([[[ 0.       , -1.2238272,  1.2238274]],\n",
       "\n",
       "       [[ 1.4140146, -0.7070074, -0.7070074]]], dtype=float32)>"
      ]
     },
     "execution_count": 30,
     "metadata": {},
     "output_type": "execute_result"
    }
   ],
   "source": [
    "LN.forward(inputs)"
   ]
  },
  {
   "cell_type": "code",
   "execution_count": 32,
   "id": "7c2321c9-c207-443e-af49-bdaf9d46d4ad",
   "metadata": {},
   "outputs": [
    {
     "data": {
      "text/plain": [
       "TensorShape([5, 3, 8])"
      ]
     },
     "execution_count": 32,
     "metadata": {},
     "output_type": "execute_result"
    }
   ],
   "source": [
    "batch_size = 3\n",
    "sentence_length = 5\n",
    "embedding_dim = 8 \n",
    "\n",
    "inputs = tf.random.normal((sentence_length, batch_size, embedding_dim))\n",
    "inputs.shape"
   ]
  },
  {
   "cell_type": "code",
   "execution_count": 36,
   "id": "a6faaf62-0c17-4860-8216-ddfdaac7a5de",
   "metadata": {},
   "outputs": [],
   "source": [
    "layer_norm = LayerNormalization(inputs.shape[-1:])"
   ]
  },
  {
   "cell_type": "code",
   "execution_count": 37,
   "id": "45aa495b-6aa9-4962-b4c2-b64a6cffe701",
   "metadata": {},
   "outputs": [],
   "source": [
    "out = layer_norm.forward(inputs)"
   ]
  },
  {
   "cell_type": "code",
   "execution_count": 38,
   "id": "91486c3f-85b7-4dde-b191-6da46b50eb35",
   "metadata": {},
   "outputs": [
    {
     "data": {
      "text/plain": [
       "<tf.Tensor: shape=(5, 3, 8), dtype=float32, numpy=\n",
       "array([[[ 0.24959044, -1.1048054 , -1.1708173 ,  0.08870648,\n",
       "          1.0341773 ,  1.8087295 ,  0.08912182, -0.9947031 ],\n",
       "        [-1.0594995 ,  0.20832284, -1.3972174 ,  0.55269593,\n",
       "          1.7174428 ,  0.82128227,  0.1247665 , -0.96779376],\n",
       "        [ 0.9477291 ,  0.49527913, -0.21491294, -0.47630686,\n",
       "          1.7647134 , -1.5092286 , -1.0884578 ,  0.08118449]],\n",
       "\n",
       "       [[ 0.82603425, -1.5432388 ,  0.56175447, -0.63570523,\n",
       "         -0.6499303 ,  1.0715604 , -0.9503917 ,  1.319917  ],\n",
       "        [ 1.6752467 , -1.4900435 , -0.49186012, -0.59815747,\n",
       "         -0.8664233 ,  0.08232222,  1.1525109 ,  0.5364051 ],\n",
       "        [ 1.0797075 , -0.09241336, -1.1581281 , -1.017531  ,\n",
       "         -1.2740653 ,  0.8651607 ,  1.4316876 ,  0.16558167]],\n",
       "\n",
       "       [[ 0.41860726,  1.8527715 , -0.7397673 , -0.00230139,\n",
       "         -1.384277  , -0.31997353, -0.86404264,  1.0389833 ],\n",
       "        [-0.6523569 , -1.2956734 ,  1.0990187 , -0.11400246,\n",
       "          1.8878645 , -0.25097272,  0.30355373, -0.9774316 ],\n",
       "        [-0.9525903 , -1.012582  ,  0.01723135,  1.0211936 ,\n",
       "          0.68764937, -1.2144403 , -0.27814502,  1.7316834 ]],\n",
       "\n",
       "       [[ 0.1154655 ,  1.1519833 ,  0.9171781 , -1.9818162 ,\n",
       "          0.41874403, -1.0862107 ,  0.6946596 , -0.23000376],\n",
       "        [-1.0638435 , -0.9166097 ,  1.3952944 ,  0.8986704 ,\n",
       "         -1.4010272 ,  0.5421614 , -0.38608626,  0.9314403 ],\n",
       "        [ 0.7076748 , -1.173311  , -0.4022796 , -0.02481851,\n",
       "          1.8937641 , -0.53777957, -1.2258844 ,  0.76263404]],\n",
       "\n",
       "       [[ 1.4512628 ,  0.16240707, -0.27579123, -0.05985144,\n",
       "         -0.10247102, -2.001449  ,  1.2586426 , -0.43274954],\n",
       "        [-0.6866041 ,  2.035272  , -1.049646  , -0.42394012,\n",
       "          0.7634568 ,  0.25117093, -1.1738232 ,  0.28411436],\n",
       "        [-0.2965425 , -2.236505  ,  0.68730307,  0.86920094,\n",
       "          0.9280826 ,  0.53065753, -0.7009497 ,  0.2187533 ]]],\n",
       "      dtype=float32)>"
      ]
     },
     "execution_count": 38,
     "metadata": {},
     "output_type": "execute_result"
    }
   ],
   "source": [
    "out"
   ]
  },
  {
   "cell_type": "code",
   "execution_count": 42,
   "id": "82057707-8d73-4908-9e40-4094ada42aad",
   "metadata": {},
   "outputs": [
    {
     "data": {
      "text/plain": [
       "<tf.Tensor: shape=(), dtype=float32, numpy=-4.967054e-09>"
      ]
     },
     "execution_count": 42,
     "metadata": {},
     "output_type": "execute_result"
    }
   ],
   "source": [
    "tf.reduce_mean(out[0])"
   ]
  },
  {
   "cell_type": "code",
   "execution_count": 43,
   "id": "0013da1a-d8c1-455c-8e04-7a116f660c71",
   "metadata": {},
   "outputs": [
    {
     "data": {
      "text/plain": [
       "<tf.Tensor: shape=(), dtype=float32, numpy=0.99999523>"
      ]
     },
     "execution_count": 43,
     "metadata": {},
     "output_type": "execute_result"
    }
   ],
   "source": [
    "tf.math.reduce_std(out[0])"
   ]
  },
  {
   "cell_type": "code",
   "execution_count": null,
   "id": "833d4e17-0dfe-4aa5-90ae-63620bd6b1f2",
   "metadata": {},
   "outputs": [],
   "source": []
  }
 ],
 "metadata": {
  "kernelspec": {
   "display_name": "Python 3 (ipykernel)",
   "language": "python",
   "name": "python3"
  },
  "language_info": {
   "codemirror_mode": {
    "name": "ipython",
    "version": 3
   },
   "file_extension": ".py",
   "mimetype": "text/x-python",
   "name": "python",
   "nbconvert_exporter": "python",
   "pygments_lexer": "ipython3",
   "version": "3.8.10"
  }
 },
 "nbformat": 4,
 "nbformat_minor": 5
}
